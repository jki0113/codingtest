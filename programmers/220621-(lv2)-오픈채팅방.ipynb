{
 "cells": [
  {
   "cell_type": "markdown",
   "id": "930c7cf2",
   "metadata": {},
   "source": [
    "##### start -> 1142"
   ]
  },
  {
   "cell_type": "code",
   "execution_count": null,
   "id": "45825ae7",
   "metadata": {},
   "outputs": [],
   "source": []
  },
  {
   "cell_type": "code",
   "execution_count": null,
   "id": "5087f80a",
   "metadata": {},
   "outputs": [],
   "source": []
  },
  {
   "cell_type": "code",
   "execution_count": 18,
   "id": "ad386274",
   "metadata": {},
   "outputs": [],
   "source": [
    "record = [\"Enter uid1234 Muzi\", \"Enter uid4567 Prodo\",\"Leave uid1234\",\"Enter uid1234 Prodo\",\"Change uid4567 Ryan\"]\t\n",
    "result = [\"Prodo님이 들어왔습니다.\", \"Ryan님이 들어왔습니다.\", \"Prodo님이 나갔습니다.\", \"Prodo님이 들어왔습니다.\"]"
   ]
  },
  {
   "cell_type": "code",
   "execution_count": 19,
   "id": "958e4600",
   "metadata": {},
   "outputs": [
    {
     "name": "stdout",
     "output_type": "stream",
     "text": [
      "{'uid1234': ['Enter', 'Prodo'], 'uid4567': ['Change', 'Ryan']}\n",
      "['Prodo님이 들어왔습니다.', 'Ryan님이 들어왔습니다.', 'Prodo님이 나갔습니다.', 'Prodo님이 들어왔습니다.']\n"
     ]
    }
   ],
   "source": [
    "def solution(record):\n",
    "    info = {}\n",
    "    for i in record:\n",
    "        record_ = i.split(' ')\n",
    "        if len(record_) == 3:\n",
    "            action = record_[0]\n",
    "            u_id = record_[1]\n",
    "            u_name = record_[2]\n",
    "            info[u_id] = [action, u_name]\n",
    "        else: \n",
    "            action = record_[0]\n",
    "            u_id = record_[1]\n",
    "            info[u_id] = [action]\n",
    "            \n",
    "    return info\n",
    "\n",
    "print(f'{solution(record)}')\n",
    "print(result)"
   ]
  },
  {
   "cell_type": "code",
   "execution_count": 163,
   "id": "7d03260b",
   "metadata": {},
   "outputs": [
    {
     "name": "stdout",
     "output_type": "stream",
     "text": [
      "['Prodo님이 들어왔습니다.', 'Ryan님이 들어왔습니다.', 'Prodo님이 나갔습니다.', 'Prodo님이 들어왔습니다.']\n",
      "['Prodo님이 들어왔습니다.', 'Ryan님이 들어왔습니다.', 'Prodo님이 나갔습니다.', 'Prodo님이 들어왔습니다.']\n"
     ]
    }
   ],
   "source": [
    "def solution(record):\n",
    "    info = {} # 회원 id, name 저장\n",
    "    result=[] # 1차 결과 저장\n",
    "    answer=[] # 2차 결과 저장(최종)\n",
    "    \n",
    "    # 입력 받은 record를 split해서 각각의 정보 저장\n",
    "    for i in record:\n",
    "        record_ = i.split(' ')\n",
    "        if len(record_) == 3:\n",
    "            action = record_[0]\n",
    "            u_id = record_[1]\n",
    "            u_name = record_[2]\n",
    "            info[u_id] = u_name\n",
    "            \n",
    "    # leave의 경우 split하면 2개의 요소 return하기 때문에 예외처리\n",
    "        else: \n",
    "            action = record_[0]\n",
    "            u_id = record_[1]\n",
    "            u_name = info.get(u_id)\n",
    "            info[u_id] = u_name\n",
    "            \n",
    "    # action에 따른 결과 값을 name이 아닌 id로 저장\n",
    "        if action == 'Enter':\n",
    "            result.append(f\"{u_id} 님이 들어왔습니다.\")\n",
    "        elif action == 'Leave':\n",
    "            result.append(f\"{u_id} 님이 나갔습니다.\")\n",
    "            \n",
    "    # 최종 결과를 name으로 변환하여 반환 (name 변경하여도 info에서 id로 조회하기 때문에 최신 정보가 반영됨) \n",
    "    for i in result:\n",
    "        tmp1 = i.split(' ', 1)[0]\n",
    "        tmp2 = i.split(' ', 1)[1]\n",
    "        answer.append(info.get(tmp1) + tmp2)\n",
    "    return answer\n",
    "\n",
    "print(f'{solution(record)}')\n",
    "print(result)"
   ]
  },
  {
   "cell_type": "markdown",
   "id": "5d2cd51a",
   "metadata": {},
   "source": [
    "##### end -> 1305"
   ]
  },
  {
   "cell_type": "code",
   "execution_count": null,
   "id": "381a1a79",
   "metadata": {},
   "outputs": [],
   "source": []
  },
  {
   "cell_type": "code",
   "execution_count": null,
   "id": "50a904c6",
   "metadata": {},
   "outputs": [],
   "source": []
  },
  {
   "cell_type": "code",
   "execution_count": null,
   "id": "fe877869",
   "metadata": {},
   "outputs": [],
   "source": []
  },
  {
   "cell_type": "markdown",
   "id": "d8db7822",
   "metadata": {},
   "source": [
    "# 정답확인"
   ]
  },
  {
   "cell_type": "code",
   "execution_count": 159,
   "id": "a09b53c0",
   "metadata": {},
   "outputs": [
    {
     "name": "stdout",
     "output_type": "stream",
     "text": [
      "['Prodo님이 들어왔습니다.', 'Ryan님이 들어왔습니다.', 'Prodo님이 나갔습니다.', 'Prodo님이 들어왔습니다.']\n",
      "['Prodo님이 들어왔습니다.', 'Ryan님이 들어왔습니다.', 'Prodo님이 나갔습니다.', 'Prodo님이 들어왔습니다.']\n"
     ]
    }
   ],
   "source": [
    "def solution(record):\n",
    "    answer = []\n",
    "    namespace = {}\n",
    "    printer = {'Enter':'님이 들어왔습니다.', 'Leave':'님이 나갔습니다.'}\n",
    "    for r in record:\n",
    "        rr = r.split(' ')\n",
    "        if rr[0] in ['Enter', 'Change']:\n",
    "            namespace[rr[1]] = rr[2]\n",
    "\n",
    "    for r in record:\n",
    "        if r.split(' ')[0] != 'Change':\n",
    "            answer.append(namespace[r.split(' ')[1]] + printer[r.split(' ')[0]])\n",
    "\n",
    "    return answer\n",
    "print(f'{solution(record)}')\n",
    "print(result)"
   ]
  }
 ],
 "metadata": {
  "kernelspec": {
   "display_name": "Python 3 (ipykernel)",
   "language": "python",
   "name": "python3"
  },
  "language_info": {
   "codemirror_mode": {
    "name": "ipython",
    "version": 3
   },
   "file_extension": ".py",
   "mimetype": "text/x-python",
   "name": "python",
   "nbconvert_exporter": "python",
   "pygments_lexer": "ipython3",
   "version": "3.9.12"
  }
 },
 "nbformat": 4,
 "nbformat_minor": 5
}
