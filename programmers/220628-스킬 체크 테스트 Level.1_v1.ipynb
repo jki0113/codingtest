{
 "cells": [
  {
   "cell_type": "code",
   "execution_count": 1,
   "id": "050b3be3",
   "metadata": {},
   "outputs": [],
   "source": []
  },
  {
   "cell_type": "code",
   "execution_count": 28,
   "id": "74111c32",
   "metadata": {},
   "outputs": [
    {
     "name": "stdout",
     "output_type": "stream",
     "text": [
      "6 -> 6\n",
      "24 -> 24\n"
     ]
    }
   ],
   "source": [
    "n1=123\n",
    "n1_=6\n",
    "n2=987\n",
    "n2_=24\n",
    "\n",
    "def solution(n):\n",
    "    n = str(n)\n",
    "    answer=0\n",
    "    for i in n:\n",
    "        answer += int(i)\n",
    "    return answer\n",
    "\n",
    "print(f'{solution(n1)} -> {n1_}')\n",
    "print(f'{solution(n2)} -> {n2_}')"
   ]
  },
  {
   "cell_type": "code",
   "execution_count": 69,
   "id": "cb65700d",
   "metadata": {},
   "outputs": [
    {
     "name": "stdout",
     "output_type": "stream",
     "text": [
      "{2, 3, 4, 5, 6, 7} -> [2, 3, 4, 5, 6, 7]\n",
      "{2, 5, 7, 9, 12} -> [2, 5, 7, 9, 12]\n"
     ]
    }
   ],
   "source": [
    "numbers1 = [2,1,3,4,1]\n",
    "result1 = [2,3,4,5,6,7]\n",
    "numbers2 = [5,0,2,7]\n",
    "result2 = [2,5,7,9,12]\n",
    "\n",
    "def solution(numbers):\n",
    "    answer = []\n",
    "    dup_del = 0\n",
    "    for i in numbers:\n",
    "        new_numbers = numbers\n",
    "        new_numbers.pop(dup_del)\n",
    "        for j in new_numbers:\n",
    "            answer.append(i+j)\n",
    "        dup_del+=1\n",
    "    return set(answer)\n",
    "\n",
    "print(f'{solution(numbers1)} -> {result1}')\n",
    "print(f'{solution(numbers2)} -> {result2}')"
   ]
  },
  {
   "cell_type": "code",
   "execution_count": null,
   "id": "d05ff14f",
   "metadata": {},
   "outputs": [],
   "source": []
  }
 ],
 "metadata": {
  "kernelspec": {
   "display_name": "Python 3 (ipykernel)",
   "language": "python",
   "name": "python3"
  },
  "language_info": {
   "codemirror_mode": {
    "name": "ipython",
    "version": 3
   },
   "file_extension": ".py",
   "mimetype": "text/x-python",
   "name": "python",
   "nbconvert_exporter": "python",
   "pygments_lexer": "ipython3",
   "version": "3.9.12"
  }
 },
 "nbformat": 4,
 "nbformat_minor": 5
}
