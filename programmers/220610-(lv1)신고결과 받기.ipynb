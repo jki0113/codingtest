{
 "cells": [
  {
   "cell_type": "code",
   "execution_count": 1,
   "id": "71e16c9f",
   "metadata": {},
   "outputs": [
    {
     "data": {
      "text/html": [
       "<style>.container { width:100% !important; }</style>"
      ],
      "text/plain": [
       "<IPython.core.display.HTML object>"
      ]
     },
     "metadata": {},
     "output_type": "display_data"
    }
   ],
   "source": [
    "from IPython.display import display, HTML\n",
    "\n",
    "display(HTML(\"<style>.container { width:100% !important; }</style>\"))"
   ]
  },
  {
   "cell_type": "code",
   "execution_count": 2,
   "id": "c84c91d4",
   "metadata": {},
   "outputs": [],
   "source": [
    "id_list = [\"muzi\", \"frodo\", \"apeach\", \"neo\"]\n",
    "report = [\"muzi frodo\", \"apeach frodo\", \"frodo neo\", \"muzi neo\", \"apeach muzi\"]\n",
    "k = 2"
   ]
  },
  {
   "cell_type": "markdown",
   "id": "6e94d1af",
   "metadata": {},
   "source": [
    "# 1차 시도"
   ]
  },
  {
   "cell_type": "code",
   "execution_count": 3,
   "id": "e03e5bca",
   "metadata": {},
   "outputs": [
    {
     "data": {
      "text/plain": [
       "[2, 1, 1, 0]"
      ]
     },
     "execution_count": 3,
     "metadata": {},
     "output_type": "execute_result"
    }
   ],
   "source": [
    "def solution(id_list, report, k):\n",
    "    answer = []\n",
    "    # 중복으로 신고된 경우를 제외하고 신고당한 사람 newReport에 저장\n",
    "    setReport = set(report)\n",
    "    newReport = []\n",
    "    for i in setReport:\n",
    "        newReport.append(i.split(' ')[1])\n",
    "    # newReport에서 정지당할 사람 조회 후 신고한 사람 정지 당할 사람 딕셔너리 형태로 저장 \n",
    "    reportList = {}\n",
    "    for i in id_list:\n",
    "        reportList[i] = 0\n",
    "        for j in newReport:\n",
    "            if i == j:\n",
    "                reportList[i] += 1\n",
    "    # 신고 두번이상 당한 놈 조회                \n",
    "    tmp_key = []\n",
    "    for key, value in reportList.items():\n",
    "        if value >= k:\n",
    "            tmp_key.append(key)\n",
    "    # 메일 보내야 하는 놈들 조회        \n",
    "    tmp_mail = []    \n",
    "    for i in setReport:\n",
    "        for j in tmp_key:\n",
    "            if i.split(' ')[1] == j:\n",
    "                tmp_mail.append(i.split(' ')[0])\n",
    "    # 최종 result형태 딕셔너리 형태로 만들기            \n",
    "    mail_value={}\n",
    "    for i in id_list:\n",
    "        mail_value[i] = 0\n",
    "        for j in tmp_mail:\n",
    "            if i == j:\n",
    "                mail_value[i] += 1\n",
    "    # 정답 형식에 맞게 변환            \n",
    "    for i in mail_value.values():\n",
    "        answer.append(i)                \n",
    "    \n",
    "    return answer\n",
    "\n",
    "\n",
    "solution(id_list, report, k)"
   ]
  },
  {
   "cell_type": "markdown",
   "id": "d3cfe192",
   "metadata": {},
   "source": [
    "# 2차시도\n",
    "##### 마지막 딕셔너리에서 밸류 값 for문 추출말고 바로 리스트로 추출\n",
    "##### 실패4 - 시간초과"
   ]
  },
  {
   "cell_type": "code",
   "execution_count": 4,
   "id": "14078710",
   "metadata": {},
   "outputs": [
    {
     "data": {
      "text/plain": [
       "[2, 1, 1, 0]"
      ]
     },
     "execution_count": 4,
     "metadata": {},
     "output_type": "execute_result"
    }
   ],
   "source": [
    "def solution(id_list, report, k):\n",
    "    answer = []\n",
    "    # 중복으로 신고된 경우를 제외하고 신고당한 사람 newReport에 저장\n",
    "    setReport = set(report)\n",
    "    newReport = []\n",
    "    for i in setReport:\n",
    "        newReport.append(i.split(' ')[1])\n",
    "    # newReport에서 정지당할 사람 조회 후 신고한 사람 정지 당할 사람 딕셔너리 형태로 저장 \n",
    "    reportList = {}\n",
    "    for i in id_list:\n",
    "        reportList[i] = 0\n",
    "        for j in newReport:\n",
    "            if i == j:\n",
    "                reportList[i] += 1\n",
    "    # 신고 두번이상 당한 놈 조회                \n",
    "    tmp_key = []\n",
    "    for key, value in reportList.items():\n",
    "        if value >= k:\n",
    "            tmp_key.append(key)\n",
    "    # 메일 보내야 하는 놈들 조회        \n",
    "    tmp_mail = []    \n",
    "    for i in setReport:\n",
    "        for j in tmp_key:\n",
    "            if i.split(' ')[1] == j:\n",
    "                tmp_mail.append(i.split(' ')[0])\n",
    "    # 최종 result형태 딕셔너리 형태로 만들기            \n",
    "    mail_value={}\n",
    "    for i in id_list:\n",
    "        mail_value[i] = 0\n",
    "        for j in tmp_mail:\n",
    "            if i == j:\n",
    "                mail_value[i] += 1\n",
    "    # 정답 형식에 맞게 변환            \n",
    "    answer = list(mail_value.values())\n",
    "    \n",
    "    return answer\n",
    "\n",
    "\n",
    "solution(id_list, report, k)"
   ]
  },
  {
   "cell_type": "markdown",
   "id": "74976db7",
   "metadata": {},
   "source": [
    "# 3차 시도\n",
    "##### 첫번째 포문 하나로\n",
    "##### 실패8 - 시간초과"
   ]
  },
  {
   "cell_type": "code",
   "execution_count": 5,
   "id": "61867ab5",
   "metadata": {},
   "outputs": [
    {
     "data": {
      "text/plain": [
       "[2, 1, 1, 0]"
      ]
     },
     "execution_count": 5,
     "metadata": {},
     "output_type": "execute_result"
    }
   ],
   "source": [
    "def solution(id_list, report, k):\n",
    "    answer = []\n",
    "    # 중복으로 신고된 경우를 제외하고 누가 몇번 신고했는지 조회\n",
    "    setReport = set(report)\n",
    "    newReport = []\n",
    "    reportList = {}\n",
    "    for i in id_list:\n",
    "        reportList[i] = 0\n",
    "        for j in setReport:\n",
    "            if i == j.split(' ')[1]:\n",
    "                reportList[i] += 1\n",
    "    # 신고 두번이상 당한 놈 조회                \n",
    "    tmp_key = []\n",
    "    for key, value in reportList.items():\n",
    "        if value >= k:\n",
    "            tmp_key.append(key)\n",
    "    # 메일 보내야 하는 놈들 조회        \n",
    "    tmp_mail = []    \n",
    "    for i in setReport:\n",
    "        for j in tmp_key:\n",
    "            if i.split(' ')[1] == j:\n",
    "                tmp_mail.append(i.split(' ')[0])\n",
    "    # 최종 result형태 딕셔너리 형태로 만들기            \n",
    "    mail_value={}\n",
    "    for i in id_list:\n",
    "        mail_value[i] = 0\n",
    "        for j in tmp_mail:\n",
    "            if i == j:\n",
    "                mail_value[i] += 1\n",
    "    # 정답 형식에 맞게 변환            \n",
    "    answer = list(mail_value.values())\n",
    "    \n",
    "    return answer\n",
    "\n",
    "\n",
    "solution(id_list, report, k)"
   ]
  },
  {
   "cell_type": "markdown",
   "id": "df140ed8",
   "metadata": {},
   "source": [
    "# 정답 확인"
   ]
  },
  {
   "cell_type": "code",
   "execution_count": 6,
   "id": "2905ccef",
   "metadata": {},
   "outputs": [
    {
     "data": {
      "text/plain": [
       "[2, 1, 1, 0]"
      ]
     },
     "execution_count": 6,
     "metadata": {},
     "output_type": "execute_result"
    }
   ],
   "source": [
    "def solution(id_list, report, k):\n",
    "    s1 = [s.split()[1] for s in set(report)]\n",
    "    s2 = [s for s in set(s1) if s1.count(s) >= k]\n",
    "    s3 = [s.split()[0] for s in set(report) if s.split()[1] in s2]\n",
    "    return [s3.count(i) for i in id_list]\n",
    "\n",
    "solution(id_list, report, k)"
   ]
  },
  {
   "cell_type": "code",
   "execution_count": 10,
   "id": "c4f9c8ae",
   "metadata": {},
   "outputs": [
    {
     "name": "stdout",
     "output_type": "stream",
     "text": [
      "['frodo', 'neo', 'neo', 'muzi', 'frodo']\n"
     ]
    }
   ],
   "source": [
    "# 중복으로 신고된 경우를 제외하고 신고당한 사람 newReport에 저장\n",
    "newReport = [i.split(' ')[1] for i in set(report)]\n",
    "print(s1)"
   ]
  },
  {
   "cell_type": "code",
   "execution_count": 17,
   "id": "51dd7cac",
   "metadata": {},
   "outputs": [
    {
     "name": "stdout",
     "output_type": "stream",
     "text": [
      "['frodo', 'neo']\n"
     ]
    }
   ],
   "source": [
    "# newReport에서 k번 이상 신고당한 사람 조회 -> 정지 될 사람\n",
    "# q if문 먼저 실행되고 나온거에서 for문 실행되는 건가요?\n",
    "banList = [i for i in set(newReport) if newReport.count(i) >= k]\n",
    "print(banList)"
   ]
  },
  {
   "cell_type": "code",
   "execution_count": 20,
   "id": "81d32d2f",
   "metadata": {},
   "outputs": [
    {
     "name": "stdout",
     "output_type": "stream",
     "text": [
      "['apeach', 'muzi', 'frodo', 'muzi']\n"
     ]
    }
   ],
   "source": [
    "# set(report)에서 banList를 신고한 사람이면 그 사람 아이디 출력\n",
    "mailList = [i.split()[0] for i in set(report) if i.split()[1] in banList]\n",
    "print(mailList)"
   ]
  },
  {
   "cell_type": "code",
   "execution_count": 25,
   "id": "a2911747",
   "metadata": {},
   "outputs": [
    {
     "data": {
      "text/plain": [
       "[2, 1, 1, 0]"
      ]
     },
     "execution_count": 25,
     "metadata": {},
     "output_type": "execute_result"
    }
   ],
   "source": [
    "# id_list에 있는 아이디를 mailList에서 조회해서 갯수 카운트\n",
    "answer = [mailList.count(i) for i in id_list]"
   ]
  },
  {
   "cell_type": "markdown",
   "id": "fe0b779f",
   "metadata": {},
   "source": [
    "# 최종 답 수정"
   ]
  },
  {
   "cell_type": "code",
   "execution_count": 26,
   "id": "cf887a98",
   "metadata": {},
   "outputs": [],
   "source": [
    "def solution(id_list, report, k):\n",
    "    # 중복으로 신고된 경우를 제외하고 신고당한 사람 newReport에 저장\n",
    "    newReport = [i.split(' ')[1] for i in set(report)]\n",
    "    # newReport에서 k번 이상 신고당한 사람 조회 -> 정지 될 사람\n",
    "    banList = [i for i in set(newReport) if newReport.count(i) >= k]\n",
    "    # set(report)에서 banList를 신고한 사람이면 그 사람 아이디 출력\n",
    "    mailList = [i.split()[0] for i in set(report) if i.split()[1] in banList]\n",
    "    # id_list에 있는 아이디를 mailList에서 조회해서 갯수 카운트\n",
    "    answer = [mailList.count(i) for i in id_list]\n",
    "    \n",
    "    return answer"
   ]
  },
  {
   "cell_type": "code",
   "execution_count": null,
   "id": "62f77b65",
   "metadata": {},
   "outputs": [],
   "source": []
  }
 ],
 "metadata": {
  "kernelspec": {
   "display_name": "BKST",
   "language": "python",
   "name": "bkst"
  },
  "language_info": {
   "codemirror_mode": {
    "name": "ipython",
    "version": 3
   },
   "file_extension": ".py",
   "mimetype": "text/x-python",
   "name": "python",
   "nbconvert_exporter": "python",
   "pygments_lexer": "ipython3",
   "version": "3.8.13"
  }
 },
 "nbformat": 4,
 "nbformat_minor": 5
}
