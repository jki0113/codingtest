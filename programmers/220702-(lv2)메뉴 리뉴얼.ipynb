{
 "cells": [
  {
   "cell_type": "code",
   "execution_count": 107,
   "id": "7e95b604",
   "metadata": {},
   "outputs": [
    {
     "name": "stdout",
     "output_type": "stream",
     "text": [
      "{5: 2, 2: 1, 3: 1, 4: 2}\n",
      "{5: 2, 2: 1, 3: 1, 4: 2}\n",
      "{5: 2, 2: 1, 3: 1, 4: 2}\n",
      "my output: ['AC', 'ACDE', 'BCFG', 'CDE'] -> expected output: ['AC', 'ACDE', 'BCFG', 'CDE']\n",
      "{5: 1, 2: 2, 3: 4}\n",
      "{5: 1, 2: 2, 3: 4}\n",
      "{5: 1, 2: 2, 3: 4}\n",
      "my output: ['ABCDE', 'ACD', 'AD', 'ADE', 'CD', 'XYZ'] -> expected output: ['ACD', 'AD', 'ADE', 'CD', 'XYZ']\n",
      "{3: 3}\n",
      "{3: 3}\n",
      "{3: 3}\n",
      "my output: ['WXA', 'XWY', 'XY', 'XYZ'] -> expected output: ['WX', 'XY']\n"
     ]
    }
   ],
   "source": [
    "ip11=[\"ABCFG\", \"AC\", \"CDE\", \"ACDE\", \"BCFG\", \"ACDEH\"]\t\n",
    "ip12=[2,3,4]\t\n",
    "op1=[\"AC\", \"ACDE\", \"BCFG\", \"CDE\"]\n",
    "\n",
    "ip21=[\"ABCDE\", \"AB\", \"CD\", \"ADE\", \"XYZ\", \"XYZ\", \"ACD\"]\t\n",
    "ip22=[2,3,5]\n",
    "op2=[\"ACD\", \"AD\", \"ADE\", \"CD\", \"XYZ\"]\n",
    "\n",
    "ip31=[\"XYZ\", \"XWY\", \"WXA\"]\n",
    "ip32=[2,3,4]\t\n",
    "op3=[\"WX\", \"XY\"]\n",
    "\n",
    "def solution(orders, course):\n",
    "    import itertools\n",
    "    result=[]\n",
    "    for i in course:\n",
    "        dictMenu={}\n",
    "        tmp={}\n",
    "        for m in orders:\n",
    "            if len(m) in tmp:\n",
    "                tmp[len(m)] += 1\n",
    "            else:\n",
    "                tmp[len(m)] = 1\n",
    "#         print(tmp)\n",
    "        for j in orders:\n",
    "            menu_cnt=list(itertools.combinations(j,i))\n",
    "            for k in menu_cnt:\n",
    "                if i == 2:\n",
    "                    if f'{k[0]}{k[1]}' in dictMenu:\n",
    "                        dictMenu[f'{k[0]}{k[1]}']+=1\n",
    "                    else:\n",
    "                        dictMenu[f'{k[0]}{k[1]}']=1\n",
    "                elif i == 3:\n",
    "                    if f'{k[0]}{k[1]}{k[2]}' in dictMenu:\n",
    "                        dictMenu[f'{k[0]}{k[1]}{k[2]}']+=1\n",
    "                    else:\n",
    "                        dictMenu[f'{k[0]}{k[1]}{k[2]}']=1\n",
    "                elif i == 4:\n",
    "                    if f'{k[0]}{k[1]}{k[2]}{k[3]}' in dictMenu:\n",
    "                        dictMenu[f'{k[0]}{k[1]}{k[2]}{k[3]}']+=1\n",
    "                    else:\n",
    "                        dictMenu[f'{k[0]}{k[1]}{k[2]}{k[3]}']=1\n",
    "                elif i == 5:\n",
    "                    if f'{k[0]}{k[1]}{k[2]}{k[3]}{k[4]}' in dictMenu:\n",
    "                        dictMenu[f'{k[0]}{k[1]}{k[2]}{k[3]}{k[4]}']+=1\n",
    "                    else:\n",
    "                        dictMenu[f'{k[0]}{k[1]}{k[2]}{k[3]}{k[4]}']=1\n",
    "                    \n",
    "        ([result.append(k) for k,v in dictMenu.items() if max(dictMenu.values()) == v]) # 리스트 컴프리헨션 이용\n",
    "    result.sort()\n",
    "    return result\n",
    "print(f'my output: {solution(ip11,ip12)} -> expected output: {op1}')\n",
    "print(f'my output: {solution(ip21,ip22)} -> expected output: {op2}')\n",
    "print(f'my output: {solution(ip31,ip32)} -> expected output: {op3}')\n"
   ]
  },
  {
   "cell_type": "markdown",
   "id": "18a8301e",
   "metadata": {},
   "source": [
    "##### 실패\n",
    "##### 1.메뉴의 갯수가 한번만 출력되는 경우를 걸러내지 못함\n",
    "##### 2.숫자를 세는 딕셔너리를 마구잡이식으로 사용함->만약 경우의 수가 1억개라면 if문도 1억개 필요하게됨"
   ]
  },
  {
   "cell_type": "markdown",
   "id": "7c6b4b35",
   "metadata": {},
   "source": [
    "# 정답"
   ]
  },
  {
   "cell_type": "code",
   "execution_count": 141,
   "id": "303e13ef",
   "metadata": {},
   "outputs": [
    {
     "name": "stdout",
     "output_type": "stream",
     "text": [
      "\n",
      "[('A', 'C')]\n",
      "[('A', 'C'), ('C', 'D', 'E')]\n",
      "[('A', 'C'), ('C', 'D', 'E'), ('B', 'C', 'F', 'G'), ('A', 'C', 'D', 'E')]\n",
      "my output: ['AC', 'ACDE', 'BCFG', 'CDE'] -> expected output: ['AC', 'ACDE', 'BCFG', 'CDE']\n",
      "\n",
      "[('A', 'D'), ('C', 'D')]\n",
      "[('A', 'D'), ('C', 'D'), ('A', 'C', 'D'), ('A', 'D', 'E'), ('X', 'Y', 'Z')]\n",
      "[('A', 'D'), ('C', 'D'), ('A', 'C', 'D'), ('A', 'D', 'E'), ('X', 'Y', 'Z')]\n",
      "my output: ['ACD', 'AD', 'ADE', 'CD', 'XYZ'] -> expected output: ['ACD', 'AD', 'ADE', 'CD', 'XYZ']\n",
      "\n",
      "[('X', 'Y'), ('W', 'X')]\n",
      "[('X', 'Y'), ('W', 'X')]\n",
      "[('X', 'Y'), ('W', 'X')]\n",
      "my output: ['WX', 'XY'] -> expected output: ['WX', 'XY']\n"
     ]
    }
   ],
   "source": [
    "ip11=[\"ABCFG\", \"AC\", \"CDE\", \"ACDE\", \"BCFG\", \"ACDEH\"]\t\n",
    "ip12=[2,3,4]\t\n",
    "op1=[\"AC\", \"ACDE\", \"BCFG\", \"CDE\"]\n",
    "\n",
    "ip21=[\"ABCDE\", \"AB\", \"CD\", \"ADE\", \"XYZ\", \"XYZ\", \"ACD\"]\t\n",
    "ip22=[2,3,5]\n",
    "op2=[\"ACD\", \"AD\", \"ADE\", \"CD\", \"XYZ\"]\n",
    "\n",
    "ip31=[\"XYZ\", \"XWY\", \"WXA\"]\n",
    "ip32=[2,3,4]\t\n",
    "op3=[\"WX\", \"XY\"]\n",
    "\n",
    "import collections # 수자를 세어주며 일대다 매핑 가능\n",
    "import itertools # 경우의 수를 빠르게 뽑아낼 수 있는 라이브러리\n",
    "\n",
    "def solution(orders, course):\n",
    "    result = []\n",
    "    for course_size in course:\n",
    "        order_combinations = []\n",
    "        for order in orders:\n",
    "            order_combinations += itertools.combinations(sorted(order), course_size)\n",
    "\n",
    "        most_ordered = collections.Counter(order_combinations).most_common()\n",
    "        result += [ k for k, v in most_ordered if v > 1 and v == most_ordered[0][1]]\n",
    "        print(result)\n",
    "    return [ ''.join(v) for v in sorted(result) ]\n",
    "\n",
    "print(f'my output: {solution(ip11,ip12)} -> expected output: {op1}')\n",
    "print(f'my output: {solution(ip21,ip22)} -> expected output: {op2}')\n",
    "print(f'my output: {solution(ip31,ip32)} -> expected output: {op3}')\n"
   ]
  },
  {
   "cell_type": "code",
   "execution_count": null,
   "id": "920f474a",
   "metadata": {},
   "outputs": [],
   "source": []
  }
 ],
 "metadata": {
  "kernelspec": {
   "display_name": "Python 3 (ipykernel)",
   "language": "python",
   "name": "python3"
  },
  "language_info": {
   "codemirror_mode": {
    "name": "ipython",
    "version": 3
   },
   "file_extension": ".py",
   "mimetype": "text/x-python",
   "name": "python",
   "nbconvert_exporter": "python",
   "pygments_lexer": "ipython3",
   "version": "3.9.12"
  }
 },
 "nbformat": 4,
 "nbformat_minor": 5
}
