{
 "cells": [
  {
   "cell_type": "code",
   "execution_count": 2,
   "id": "330e8a01",
   "metadata": {},
   "outputs": [
    {
     "data": {
      "text/html": [
       "<style>.container { width:100% !important; }</style>"
      ],
      "text/plain": [
       "<IPython.core.display.HTML object>"
      ]
     },
     "metadata": {},
     "output_type": "display_data"
    }
   ],
   "source": [
    "from IPython.display import display, HTML\n",
    "display(HTML(\"<style>.container { width:100% !important; }</style>\"))\n"
   ]
  },
  {
   "cell_type": "code",
   "execution_count": 59,
   "id": "86a1ac91",
   "metadata": {},
   "outputs": [
    {
     "name": "stdout",
     "output_type": "stream",
     "text": [
      "{'classic': 1450, 'pop': 3100}\n",
      "[('pop', 3100), ('classic', 1450)]\n",
      "('pop', 3100)\n",
      "('classic', 1450)\n",
      "[4, 1, 3, 0] -> [4, 1, 3, 0]\n",
      "{'classic': 1801, 'pop': 1500}\n",
      "[('classic', 1801), ('pop', 1500)]\n",
      "('classic', 1801)\n",
      "('pop', 1500)\n",
      "[3, 2, 4, 1] -> [3, 2, 4, 1]\n"
     ]
    }
   ],
   "source": [
    "ip1=[\"classic\", \"pop\", \"classic\", \"classic\", \"pop\"]\t\n",
    "ip2=[500, 600, 150, 800, 2500]\t\n",
    "op1=[4, 1, 3, 0]\n",
    "\n",
    "ip3=[\"classic\", \"pop\", \"classic\", \"classic\", \"pop\"]\n",
    "ip4=[500, 600, 501, 800, 900]\n",
    "op2=[3, 2, 4, 1]\n",
    "\n",
    "def solution(genres, plays):\n",
    "    answer = [] # 정답을 담을 배열\n",
    "    genre={} # 장르 별 플레이 횟수를 담을 딕셔널;\n",
    "    play={} # 노래 별 플레이 횟수를 담을 딕셔너리\n",
    "    music={} # 장르와 노래를 담을 딕셔너리\n",
    "    \n",
    "    #genre,music 딕셔너리를 생성 및 0값으로 초기화\n",
    "    for i in set(genres):\n",
    "        genre[i]=0\n",
    "        music[i]=[]\n",
    "    \n",
    "    # genre,play,music 딕셔너리 생성\n",
    "    tmp_cnt=0\n",
    "    for i,j in zip(genres, plays):\n",
    "        genre[i]+=j\n",
    "        play[tmp_cnt]=j\n",
    "        music[i]+=[tmp_cnt]\n",
    "        tmp_cnt+=1\n",
    "        \n",
    "    # 장르 딕셔너리를 많이 재생한 횟수부터 뽑기 위해 정렬\n",
    "    print(genre)\n",
    "    print(sorted(genre.items(), key=lambda x: x[1], reverse=True))\n",
    "    genre = sorted(genre.items(), key=lambda x: x[1], reverse=True)\n",
    "    g_tmp=[]\n",
    "    for i in genre:\n",
    "        g_tmp.append(i[0])\n",
    "    genre=g_tmp\n",
    "#         g_tmp.append(i[0])\n",
    "    #많이 재생된 장르 순으로 추출\n",
    "    for i in genre:\n",
    "        tmp={} # 장르별 추출될 노래와 재생 횟수를 담을 딕셔너리\n",
    "        \n",
    "        # 장르안의 재생된 노래 리스트 추출\n",
    "        for j in music[i]:\n",
    "            tmp[j]=play[j]\n",
    "        if len(tmp) == 1: # (예외처리) 장르의 노래가 1개일 경우 1개만 리턴\n",
    "            answer.append(max(tmp,key=tmp.get))\n",
    "        else:\n",
    "            for _ in range(2):\n",
    "                answer.append(max(tmp,key=tmp.get))\n",
    "                tmp.pop(max(tmp,key=tmp.get))\n",
    "    \n",
    "    return answer\n",
    "\n",
    "print(f'{solution(ip1,ip2)} -> {op1}')\n",
    "print(f'{solution(ip3,ip4)} -> {op2}')"
   ]
  },
  {
   "cell_type": "code",
   "execution_count": 60,
   "id": "97e0a0e4",
   "metadata": {},
   "outputs": [
    {
     "name": "stdout",
     "output_type": "stream",
     "text": [
      "[4, 1, 3, 0] -> [4, 1, 3, 0]\n",
      "[3, 2, 4, 1] -> [3, 2, 4, 1]\n"
     ]
    }
   ],
   "source": [
    "ip1=[\"classic\", \"pop\", \"classic\", \"classic\", \"pop\"]\t\n",
    "ip2=[500, 600, 150, 800, 2500]\t\n",
    "op1=[4, 1, 3, 0]\n",
    "\n",
    "ip3=[\"classic\", \"pop\", \"classic\", \"classic\", \"pop\"]\n",
    "ip4=[500, 600, 501, 800, 900]\n",
    "op2=[3, 2, 4, 1]\n",
    "\n",
    "def solution(genres, plays):\n",
    "    answer = [] # 정답을 담을 배열\n",
    "    genre={} # 장르 별 플레이 횟수를 담을 딕셔널;\n",
    "    play={} # 노래 별 플레이 횟수를 담을 딕셔너리\n",
    "    music={} # 장르와 노래를 담을 딕셔너리\n",
    "    \n",
    "    #genre,music 딕셔너리를 생성 및 0값으로 초기화\n",
    "    for i in set(genres):\n",
    "        genre[i]=0\n",
    "        music[i]=[]\n",
    "    \n",
    "    # genre,play,music 딕셔너리 생성\n",
    "    tmp_cnt=0\n",
    "    for i,j in zip(genres, plays):\n",
    "        genre[i]+=j\n",
    "        play[tmp_cnt]=j\n",
    "        music[i]+=[tmp_cnt]\n",
    "        tmp_cnt+=1\n",
    "        \n",
    "    # 장르 딕셔너리를 많이 재생한 횟수부터 뽑기 위해 정렬\n",
    "    genre = sorted(genre.items(), key=lambda x: x[1], reverse=True)\n",
    "    g_tmp=[]\n",
    "    for i in genre:\n",
    "        g_tmp.append(i[0])\n",
    "    genre=g_tmp\n",
    "    \n",
    "    #많이 재생된 장르 순으로 추출\n",
    "    for i in genre:\n",
    "        tmp={} # 장르별 추출될 노래와 재생 횟수를 담을 딕셔너리\n",
    "        \n",
    "        # 장르안의 재생된 노래 리스트 추출\n",
    "        for j in music[i]:\n",
    "            tmp[j]=play[j]\n",
    "        if len(tmp) == 1: # (예외처리) 장르의 노래가 1개일 경우 1개만 리턴\n",
    "            answer.append(max(tmp,key=tmp.get))\n",
    "        else:\n",
    "            for _ in range(2):\n",
    "                answer.append(max(tmp,key=tmp.get))\n",
    "                tmp.pop(max(tmp,key=tmp.get))\n",
    "    \n",
    "    return answer\n",
    "\n",
    "print(f'{solution(ip1,ip2)} -> {op1}')\n",
    "print(f'{solution(ip3,ip4)} -> {op2}')"
   ]
  }
 ],
 "metadata": {
  "kernelspec": {
   "display_name": "Python 3 (ipykernel)",
   "language": "python",
   "name": "python3"
  },
  "language_info": {
   "codemirror_mode": {
    "name": "ipython",
    "version": 3
   },
   "file_extension": ".py",
   "mimetype": "text/x-python",
   "name": "python",
   "nbconvert_exporter": "python",
   "pygments_lexer": "ipython3",
   "version": "3.9.12"
  }
 },
 "nbformat": 4,
 "nbformat_minor": 5
}
