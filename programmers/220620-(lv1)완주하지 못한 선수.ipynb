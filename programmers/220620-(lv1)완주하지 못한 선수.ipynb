{
 "cells": [
  {
   "cell_type": "code",
   "execution_count": 12,
   "id": "95e0530a",
   "metadata": {},
   "outputs": [],
   "source": [
    "participant1 = [\"leo\", \"kiki\", \"eden\"]\t\n",
    "completion1 =[\"eden\", \"kiki\"]\t\n",
    "answer1=\"leo\"\n",
    "participant2 = [\"marina\", \"josipa\", \"nikola\", \"vinko\", \"filipa\"]\t\n",
    "completion2 =[\"josipa\", \"filipa\", \"marina\", \"nikola\"]\t\n",
    "answer2=\"vinko\"\n",
    "participant3 = [\"mislav\", \"stanko\", \"mislav\", \"ana\"]\n",
    "completion3 =[\"stanko\", \"ana\", \"mislav\"]\n",
    "answer3=\"mislav\""
   ]
  },
  {
   "cell_type": "code",
   "execution_count": 13,
   "id": "3a493bf8",
   "metadata": {},
   "outputs": [],
   "source": [
    "from datetime import datetime"
   ]
  },
  {
   "cell_type": "code",
   "execution_count": null,
   "id": "fcc03db8",
   "metadata": {},
   "outputs": [],
   "source": []
  },
  {
   "cell_type": "code",
   "execution_count": 20,
   "id": "086d0f81",
   "metadata": {},
   "outputs": [
    {
     "name": "stdout",
     "output_type": "stream",
     "text": [
      "leo - leo\n",
      "vinko - vinko\n",
      "mislav - mislav\n"
     ]
    }
   ],
   "source": [
    "def solution(participant, completion):\n",
    "    if len(participant) != len(set(participant)):\n",
    "\n",
    "        p_cnt={}\n",
    "        new_p=[]\n",
    "        for i in participant:\n",
    "            try:\n",
    "                p_cnt[i] += 1\n",
    "            except:\n",
    "                p_cnt[i] = 1\n",
    "        for i,j in p_cnt.items():\n",
    "            if j >= 2:\n",
    "                new_p.append(i)\n",
    "        return new_p[0]\n",
    "    else:\n",
    "        answer = [i for i in participant if i not in completion]\n",
    "        return answer[0]\n",
    "\n",
    "print(f'{solution(participant1, completion1)} - {answer1}')\n",
    "print(f'{solution(participant2, completion2)} - {answer2}')\n",
    "print(f'{solution(participant3, completion3)} - {answer3}')"
   ]
  },
  {
   "cell_type": "code",
   "execution_count": 53,
   "id": "c631bd6d",
   "metadata": {},
   "outputs": [
    {
     "name": "stdout",
     "output_type": "stream",
     "text": [
      "{'leo': 1, 'kiki': 0, 'eden': 0}\n",
      "0:00:00\n",
      "leo - leo\n",
      "{'marina': 0, 'josipa': 0, 'nikola': 0, 'vinko': 1, 'filipa': 0}\n",
      "0:00:00\n",
      "vinko - vinko\n",
      "{'mislav': 1, 'stanko': 0, 'ana': 0}\n",
      "0:00:00\n",
      "mislav - mislav\n"
     ]
    }
   ],
   "source": [
    "def solution(participant, completion):\n",
    "#     now = datetime.now()\n",
    "    ptcp={}\n",
    "    answer = []\n",
    "    for i in participant\n",
    "        if i in ptcp:\n",
    "            ptcp[i] += 1\n",
    "        else:\n",
    "            ptcp[i] = 1\n",
    "    \n",
    "    for i in completion:\n",
    "        if i in ptcp:\n",
    "            ptcp[i] -= 1\n",
    "        \n",
    "    print(ptcp)\n",
    "    for i,j in ptcp.items():\n",
    "        if j == 1:\n",
    "            answer=([k for k, v in ptcp.items() if v == 1])\n",
    "    \n",
    "    end = datetime.now()\n",
    "#     print(end-now)\n",
    "    return answer[0]\n",
    "\n",
    "print(f'{solution(participant1, completion1)} - {answer1}')\n",
    "print(f'{solution(participant2, completion2)} - {answer2}')\n",
    "print(f'{solution(participant3, completion3)} - {answer3}')"
   ]
  },
  {
   "cell_type": "code",
   "execution_count": 74,
   "id": "42b0a280",
   "metadata": {},
   "outputs": [
    {
     "name": "stdout",
     "output_type": "stream",
     "text": [
      "{'leo': 1, 'kiki': 0, 'eden': 0}\n",
      "0:00:00\n",
      "leo - leo\n",
      "{'marina': 0, 'josipa': 0, 'nikola': 0, 'vinko': 1, 'filipa': 0}\n",
      "0:00:00\n",
      "vinko - vinko\n",
      "{'mislav': 1, 'stanko': 0, 'ana': 0}\n",
      "0:00:00\n",
      "mislav - mislav\n"
     ]
    }
   ],
   "source": [
    "def solution(participant, completion):\n",
    "    now = datetime.now()\n",
    "    ptcp={}\n",
    "    answer = []\n",
    "    for i in participant:\n",
    "        if i in ptcp:\n",
    "            ptcp[i] += 1\n",
    "        else:\n",
    "            ptcp[i] = 1\n",
    "    \n",
    "    for i in completion:\n",
    "        if i in ptcp:\n",
    "            ptcp[i] -= 1\n",
    "    print(ptcp)\n",
    "    answer = (max(ptcp, key=ptcp.get))\n",
    "    end = datetime.now()\n",
    "    print(end-now)\n",
    "    return answer\n",
    "\n",
    "print(f'{solution(participant1, completion1)} - {answer1}')\n",
    "print(f'{solution(participant2, completion2)} - {answer2}')\n",
    "print(f'{solution(participant3, completion3)} - {answer3}')"
   ]
  },
  {
   "cell_type": "code",
   "execution_count": null,
   "id": "ff026ee3",
   "metadata": {},
   "outputs": [],
   "source": []
  },
  {
   "cell_type": "code",
   "execution_count": null,
   "id": "6c05592f",
   "metadata": {},
   "outputs": [],
   "source": []
  },
  {
   "cell_type": "code",
   "execution_count": null,
   "id": "ee58c1c0",
   "metadata": {},
   "outputs": [],
   "source": []
  },
  {
   "cell_type": "code",
   "execution_count": null,
   "id": "7b00aaa2",
   "metadata": {},
   "outputs": [],
   "source": []
  },
  {
   "cell_type": "code",
   "execution_count": 80,
   "id": "04791cc6",
   "metadata": {},
   "outputs": [
    {
     "name": "stdout",
     "output_type": "stream",
     "text": [
      "{'leo': 1, 'kiki': 1, 'eden': 1}\n",
      "0:00:00\n",
      "leo - leo\n",
      "{'marina': 1, 'josipa': 1, 'nikola': 1, 'vinko': 1, 'filipa': 1}\n",
      "0:00:00\n",
      "marina - vinko\n",
      "{'mislav': 2, 'stanko': 1, 'ana': 1}\n",
      "0:00:00\n",
      "mislav - mislav\n"
     ]
    }
   ],
   "source": [
    "def solution(participant, completion):\n",
    "    now = datetime.now()\n",
    "    ptcp={}\n",
    "    ptcp_={}\n",
    "    answer = []\n",
    "    for i in participant:\n",
    "        if i in ptcp:\n",
    "            ptcp[i] += 1\n",
    "        else:\n",
    "            ptcp[i] = 1\n",
    "    \n",
    "    for i in completion\n",
    "        if i in ptcp:\n",
    "            ptcp[i] -= 1\n",
    "    print(ptcp)\n",
    "    answer = (max(ptcp, key=ptcp.get))\n",
    "    end = datetime.now()\n",
    "    print(end-now)\n",
    "    return answer\n",
    "\n",
    "print(f'{solution(participant1, completion1)} - {answer1}')\n",
    "print(f'{solution(participant2, completion2)} - {answer2}')\n",
    "print(f'{solution(participant3, completion3)} - {answer3}')"
   ]
  },
  {
   "cell_type": "code",
   "execution_count": null,
   "id": "af2d6f61",
   "metadata": {},
   "outputs": [],
   "source": []
  }
 ],
 "metadata": {
  "kernelspec": {
   "display_name": "BKST",
   "language": "python",
   "name": "bkst"
  },
  "language_info": {
   "codemirror_mode": {
    "name": "ipython",
    "version": 3
   },
   "file_extension": ".py",
   "mimetype": "text/x-python",
   "name": "python",
   "nbconvert_exporter": "python",
   "pygments_lexer": "ipython3",
   "version": "3.8.13"
  }
 },
 "nbformat": 4,
 "nbformat_minor": 5
}
