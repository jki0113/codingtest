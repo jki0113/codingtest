{
 "cells": [
  {
   "cell_type": "code",
   "execution_count": 1,
   "id": "8bdf5be5",
   "metadata": {},
   "outputs": [
    {
     "data": {
      "text/html": [
       "<style>.container { width:100% !important; }</style>"
      ],
      "text/plain": [
       "<IPython.core.display.HTML object>"
      ]
     },
     "metadata": {},
     "output_type": "display_data"
    }
   ],
   "source": [
    "from IPython.display import display, HTML\n",
    "display(HTML(\"<style>.container { width:100% !important; }</style>\"))\n"
   ]
  },
  {
   "cell_type": "code",
   "execution_count": 2,
   "id": "77d31629",
   "metadata": {},
   "outputs": [
    {
     "name": "stdout",
     "output_type": "stream",
     "text": [
      "9 -> 9\n",
      "0 -> 0\n"
     ]
    }
   ],
   "source": [
    "a1=[4,7,12]\n",
    "s1=[True,False,True]\n",
    "r1=9\n",
    "a2=[1,2,3]\n",
    "s2=[False,False,True]\n",
    "r2=0\n",
    "\n",
    "def solution(absolutes, signs):\n",
    "    answer = 0\n",
    "    for i,j in zip(absolutes, signs):\n",
    "        # signs가 True일 경우 양수\n",
    "        if j:\n",
    "            answer+=i\n",
    "        # sings가 False일 경우 음수\n",
    "        else:\n",
    "            answer-=i\n",
    "    return answer\n",
    "\n",
    "print(f\"{solution(a1,s1)} -> {r1}\")\n",
    "print(f\"{solution(a2,s2)} -> {r2}\")"
   ]
  },
  {
   "cell_type": "code",
   "execution_count": 3,
   "id": "e177849d",
   "metadata": {},
   "outputs": [
    {
     "data": {
      "text/plain": [
       "45"
      ]
     },
     "execution_count": 3,
     "metadata": {},
     "output_type": "execute_result"
    }
   ],
   "source": [
    "a=0\n",
    "for i in range(10):\n",
    "    a+=i\n",
    "    \n",
    "a"
   ]
  },
  {
   "cell_type": "code",
   "execution_count": null,
   "id": "af3635ac",
   "metadata": {},
   "outputs": [],
   "source": []
  }
 ],
 "metadata": {
  "kernelspec": {
   "display_name": "Python 3 (ipykernel)",
   "language": "python",
   "name": "python3"
  },
  "language_info": {
   "codemirror_mode": {
    "name": "ipython",
    "version": 3
   },
   "file_extension": ".py",
   "mimetype": "text/x-python",
   "name": "python",
   "nbconvert_exporter": "python",
   "pygments_lexer": "ipython3",
   "version": "3.9.12"
  }
 },
 "nbformat": 4,
 "nbformat_minor": 5
}
