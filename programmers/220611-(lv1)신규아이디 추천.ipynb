{
 "cells": [
  {
   "cell_type": "code",
   "execution_count": 1,
   "id": "9338ed4c",
   "metadata": {},
   "outputs": [],
   "source": [
    "# 1단계 new_id의 모든 대문자를 대응되는 소문자로 치환합니다.\n",
    "# 2단계 new_id에서 알파벳 소문자, 숫자, 빼기(-), 밑줄(_), 마침표(.)를 제외한 모든 문자를 제거합니다.\n",
    "# 3단계 new_id에서 마침표(.)가 2번 이상 연속된 부분을 하나의 마침표(.)로 치환합니다.\n",
    "# 4단계 new_id에서 마침표(.)가 처음이나 끝에 위치한다면 제거합니다.\n",
    "# 5단계 new_id가 빈 문자열이라면, new_id에 \"a\"를 대입합니다.\n",
    "# 6단계 new_id의 길이가 16자 이상이면, new_id의 첫 15개의 문자를 제외한 나머지 문자들을 모두 제거합니다.\n",
    "#      만약 제거 후 마침표(.)가 new_id의 끝에 위치한다면 끝에 위치한 마침표(.) 문자를 제거합니다.\n",
    "# 7단계 new_id의 길이가 2자 이하라면, new_id의 마지막 문자를 new_id의 길이가 3이 될 때까지 반복해서 끝에 붙입니다."
   ]
  },
  {
   "cell_type": "code",
   "execution_count": 4,
   "id": "21da11d1",
   "metadata": {},
   "outputs": [],
   "source": [
    "new_id1 = \"...!@BaT#*..y.abcdefghijklm\" # \"bat.y.abcdefghi\"\n",
    "new_id2 = \"z-+.^.\" # \"z--\"\n",
    "new_id3 = \"=.=\" # \"aaa\"\n",
    "new_id4 = \"123_.def\" # \"123_.def\"\n",
    "new_id5 = \"abcdefghijklmn.p\" # \"abcdefghijklmn\""
   ]
  },
  {
   "cell_type": "markdown",
   "id": "97a9efa0",
   "metadata": {},
   "source": [
    "# 1차 시도"
   ]
  },
  {
   "cell_type": "code",
   "execution_count": 6,
   "id": "c53cceac",
   "metadata": {},
   "outputs": [],
   "source": [
    "def solution(new_id):\n",
    "    import re\n",
    "    filter_id = new_id\n",
    "    #1\n",
    "    filter_id = filter_id.lower()\n",
    "    #2\n",
    "    filter_id = re.sub(r'[^a-z0-9-_.]', '', filter_id)\n",
    "    #3\n",
    "    filter_id = re.sub('(([..])\\\\2{1,})', '.', filter_id)\n",
    "    #4\n",
    "    filter_id = re.sub('^[.]|[.]$', '', filter_id)\n",
    "    #5\n",
    "#     print('filterid1', filter_id)\n",
    "    if filter_id == '':\n",
    "        filter_id = 'aaa'\n",
    "    #6\n",
    "    if len(filter_id) >= 16:\n",
    "        filter_id = filter_id[:15]\n",
    "    #7\n",
    "#     print('filterid2', filter_id)\n",
    "    if len(filter_id) <= 2:\n",
    "        while True:\n",
    "            filter_id = filter_id + filter_id[-1]\n",
    "            if len(filter_id) == 3:\n",
    "                break\n",
    "    filter_id = re.sub('^[.]|[.]$', '', filter_id)\n",
    "\n",
    "    answer = filter_id\n",
    "    return answer"
   ]
  },
  {
   "cell_type": "markdown",
   "id": "924c4260",
   "metadata": {},
   "source": [
    "# 2차 시도"
   ]
  },
  {
   "cell_type": "code",
   "execution_count": 12,
   "id": "fb12fb13",
   "metadata": {},
   "outputs": [],
   "source": [
    "def solution(new_id):\n",
    "    import re\n",
    "    filter_id = new_id\n",
    "    filter_id = filter_id.lower()\n",
    "    filter_id = re.sub(r'[^a-z0-9-_.]', '', filter_id)\n",
    "    filter_id = re.sub('(([..])\\\\2{1,})', '.', filter_id)\n",
    "    filter_id = re.sub('^[.]|[.]$', '', filter_id)\n",
    "    if filter_id == '':\n",
    "        filter_id = 'aaa'\n",
    "    if len(filter_id) >= 16:\n",
    "        filter_id = filter_id[:15]\n",
    "    if len(filter_id) <= 2:\n",
    "        while True:\n",
    "            filter_id = filter_id + filter_id[-1]\n",
    "            if len(filter_id) == 3:\n",
    "                break\n",
    "    filter_id = re.sub('^[.]|[.]$', '', filter_id)\n",
    "\n",
    "    answer = filter_id\n",
    "    return answer"
   ]
  },
  {
   "cell_type": "code",
   "execution_count": 13,
   "id": "45c4194b",
   "metadata": {},
   "outputs": [
    {
     "name": "stdout",
     "output_type": "stream",
     "text": [
      "bat.y.abcdefghi\n",
      "z--\n",
      "aaa\n",
      "123_.def\n",
      "abcdefghijklmn\n"
     ]
    }
   ],
   "source": [
    "print(solution(new_id1))\n",
    "print(solution(new_id2))\n",
    "print(solution(new_id3))\n",
    "print(solution(new_id4))\n",
    "print(solution(new_id5))"
   ]
  },
  {
   "cell_type": "markdown",
   "id": "b89e0f03",
   "metadata": {},
   "source": [
    "# 3차시도"
   ]
  },
  {
   "cell_type": "code",
   "execution_count": 11,
   "id": "a4ab9502",
   "metadata": {},
   "outputs": [
    {
     "name": "stdout",
     "output_type": "stream",
     "text": [
      "bat.y.abcdefghi\n",
      "z--\n",
      "aaa\n",
      "123_.def\n",
      "abcdefghijklmn\n"
     ]
    }
   ],
   "source": [
    "def solution(new_id):\n",
    "    import re\n",
    "    filter_id = new_id\n",
    "    filter_id = filter_id.lower()\n",
    "    filter_id = re.sub(r'[^a-z0-9-_.]', '', filter_id)\n",
    "    filter_id = re.sub('(([..])\\\\2{1,})', '.', filter_id)\n",
    "    filter_id = re.sub('^[.]|[.]$', '', filter_id)\n",
    "    filter_id = 'a' if filter_id == '' else filter_id\n",
    "    filter_id = filter_id[:15] if len(filter_id) >= 16 else filter_id\n",
    "    filter_id = filter_id + (filter_id[-1]*(3-len(filter_id))) if len(filter_id) < 3 else filter_id\n",
    "    filter_id = re.sub('^[.]|[.]$', '', filter_id)\n",
    "\n",
    "    answer = filter_id\n",
    "    return answer\n",
    "\n",
    "print(solution(new_id1))\n",
    "print(solution(new_id2))\n",
    "print(solution(new_id3))\n",
    "print(solution(new_id4))\n",
    "print(solution(new_id5))"
   ]
  },
  {
   "cell_type": "code",
   "execution_count": null,
   "id": "d61eb503",
   "metadata": {},
   "outputs": [],
   "source": []
  },
  {
   "cell_type": "code",
   "execution_count": null,
   "id": "64cfba92",
   "metadata": {},
   "outputs": [],
   "source": []
  },
  {
   "cell_type": "code",
   "execution_count": null,
   "id": "c4b47143",
   "metadata": {},
   "outputs": [],
   "source": []
  },
  {
   "cell_type": "code",
   "execution_count": null,
   "id": "ba2bf75c",
   "metadata": {},
   "outputs": [],
   "source": []
  },
  {
   "cell_type": "markdown",
   "id": "668c0902",
   "metadata": {},
   "source": [
    "# 대발이형"
   ]
  },
  {
   "cell_type": "code",
   "execution_count": null,
   "id": "aced3218",
   "metadata": {},
   "outputs": [],
   "source": [
    "def solution(new_id):\n",
    "    \n",
    "    # 1. new_id 대문자 => 소문자\n",
    "    # string.lower()\n",
    "    new_id = new_id.lower()\n",
    "    \n",
    "    # 2. new_id 소문자, 숫자, 빼기, 밑줄, 마침표를 제외한 문자 제거\n",
    "    characters = \"~!@#$%^&*()=+[{]}:?,<>/\"\n",
    "    for x in characters:\n",
    "        if x in new_id:\n",
    "            new_id = new_id.replace(x,\"\")\n",
    "            \n",
    "    # 3. new_id의 ... => . 으로 변경\n",
    "    for i in range(len(new_id)):\n",
    "        new_id = new_id.replace('..','.')\n",
    "    \n",
    "    # 4. new_id의 첫 번째 . 제거\n",
    "    if new_id.startswith('.'):\n",
    "        new_id = new_id[1:]\n",
    "        \n",
    "    # 5. new_id가 빈 문자열이면 new_id에 'a' 대입\n",
    "    if len(new_id) == 0:\n",
    "        new_id = 'a'\n",
    "    \n",
    "    # 6. new_id의 길이가 16 이상이면 첫 15개 문자만 남긴다\n",
    "    # 제거 후 마침표가 마지막에 있으면 제거\n",
    "    if len(new_id) >= 16:\n",
    "        new_id = new_id[:15]\n",
    "    if new_id[-1] == '.':\n",
    "        new_id = new_id[:-1]\n",
    "            \n",
    "    # 7. new_id의 길이가 2자 이하이면 new_id의 마지막 문자를 \n",
    "    # 길이가 3이 될 때까지 반복해서 뒤에 붙인다.\n",
    "    if len(new_id) <= 2:\n",
    "        while len(new_id) < 3:\n",
    "                new_id = new_id + new_id[-1]\n",
    "    \n",
    "    return new_id"
   ]
  }
 ],
 "metadata": {
  "kernelspec": {
   "display_name": "BKST",
   "language": "python",
   "name": "bkst"
  },
  "language_info": {
   "codemirror_mode": {
    "name": "ipython",
    "version": 3
   },
   "file_extension": ".py",
   "mimetype": "text/x-python",
   "name": "python",
   "nbconvert_exporter": "python",
   "pygments_lexer": "ipython3",
   "version": "3.8.13"
  }
 },
 "nbformat": 4,
 "nbformat_minor": 5
}
