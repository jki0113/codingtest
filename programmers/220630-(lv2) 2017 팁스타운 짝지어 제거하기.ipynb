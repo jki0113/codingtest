{
 "cells": [
  {
   "cell_type": "code",
   "execution_count": null,
   "id": "5ad7d579",
   "metadata": {},
   "outputs": [],
   "source": []
  },
  {
   "cell_type": "code",
   "execution_count": null,
   "id": "a02fea91",
   "metadata": {},
   "outputs": [],
   "source": []
  },
  {
   "cell_type": "code",
   "execution_count": 12,
   "id": "0d0094f3",
   "metadata": {},
   "outputs": [
    {
     "name": "stdout",
     "output_type": "stream",
     "text": [
      "['b', 'a', 'a', 'b', 'a', 'a']\n",
      "['b', 'a', 'a', 'b', 'a', 'a']\n",
      "a a\n",
      "['b', 'b', 'a', 'a']\n",
      "b b\n",
      "['a', 'a']\n",
      "a a\n",
      "[]\n",
      "my output: 1 -> expected output: 1\n",
      "['c', 'd', 'c', 'd']\n",
      "['c', 'd', 'c', 'd']\n",
      "['c', 'd', 'c', 'd']\n",
      "['c', 'd', 'c', 'd']\n",
      "my output: 0 -> expected output: 0\n"
     ]
    }
   ],
   "source": [
    "ip1='baabaa'\n",
    "op1=1\n",
    "\n",
    "ip2='cdcd'\n",
    "op2=0\n",
    "\n",
    "ip3='abcdefggfedcba'\n",
    "\n",
    "ip4='abbcdaadca'\n",
    "\n",
    "def solution(s):\n",
    "    answer = 0\n",
    "    s=list(s)\n",
    "    if len(s) == 0:\n",
    "        return 0\n",
    "    i=0\n",
    "    while True:\n",
    "        print(s)\n",
    "        if len(s) == 0:\n",
    "            return 1\n",
    "        elif len(s) != 0:\n",
    "            if len(s)-1 == i:\n",
    "                return 0\n",
    "            elif s[i] == s[i+1]:\n",
    "                print(s[i], s[i+1])\n",
    "                s.remove(s[i])\n",
    "                s.remove(s[i])\n",
    "                i=0\n",
    "                continue\n",
    "            else:\n",
    "                i+=1\n",
    "    return answer\n",
    "\n",
    "print(f'my output: {solution(ip1)} -> expected output: {op1}')\n",
    "print(f'my output: {solution(ip2)} -> expected output: {op2}')\n"
   ]
  },
  {
   "cell_type": "code",
   "execution_count": null,
   "id": "399b1de9",
   "metadata": {},
   "outputs": [],
   "source": []
  },
  {
   "cell_type": "code",
   "execution_count": 3,
   "id": "729703a0",
   "metadata": {},
   "outputs": [
    {
     "name": "stdout",
     "output_type": "stream",
     "text": [
      "첫번째 for 문 b\n",
      "answer.append(i) ['b']\n",
      "첫번째 for 문 a\n",
      "answer.append(i) ['b', 'a']\n",
      "첫번째 for 문 a\n",
      "answer.pop() ['b']\n",
      "첫번째 for 문 b\n",
      "answer.pop() []\n",
      "첫번째 for 문 a\n",
      "answer.append(i) ['a']\n",
      "첫번째 for 문 a\n",
      "answer.pop() []\n",
      "my output: 1 -> expected output: 1\n",
      "첫번째 for 문 c\n",
      "answer.append(i) ['c']\n",
      "첫번째 for 문 d\n",
      "answer.append(i) ['c', 'd']\n",
      "첫번째 for 문 c\n",
      "answer.append(i) ['c', 'd', 'c']\n",
      "첫번째 for 문 d\n",
      "answer.append(i) ['c', 'd', 'c', 'd']\n",
      "my output: 0 -> expected output: 0\n"
     ]
    }
   ],
   "source": [
    "ip1='baabaa'\n",
    "op1=1\n",
    "\n",
    "ip2='cdcd'\n",
    "op2=0\n",
    "\n",
    "def solution(s):\n",
    "    answer = []\n",
    "    for i in s:\n",
    "        print('첫번째 for 문', i)\n",
    "        if not(answer):\n",
    "            answer.append(i)\n",
    "            print('answer.append(i)', answer)\n",
    "        else:\n",
    "            if(answer[-1] == i):\n",
    "                answer.pop()\n",
    "                print('answer.pop()', answer)\n",
    "            else:\n",
    "                answer.append(i)\n",
    "                print('answer.append(i)', answer)\n",
    "                \n",
    "    if answer:\n",
    "        answer=0\n",
    "    elif not answer:\n",
    "        answer=1\n",
    "    return answer\n",
    "\n",
    "print(f'my output: {solution(ip1)} -> expected output: {op1}')\n",
    "print(f'my output: {solution(ip2)} -> expected output: {op2}')"
   ]
  },
  {
   "cell_type": "code",
   "execution_count": 25,
   "id": "8078f014",
   "metadata": {},
   "outputs": [
    {
     "data": {
      "text/plain": [
       "(False, True)"
      ]
     },
     "execution_count": 25,
     "metadata": {},
     "output_type": "execute_result"
    }
   ],
   "source": [
    "a=1\n",
    "b=0\n",
    "not a, not b"
   ]
  },
  {
   "cell_type": "code",
   "execution_count": null,
   "id": "94d87e28",
   "metadata": {},
   "outputs": [],
   "source": []
  }
 ],
 "metadata": {
  "kernelspec": {
   "display_name": "Python 3 (ipykernel)",
   "language": "python",
   "name": "python3"
  },
  "language_info": {
   "codemirror_mode": {
    "name": "ipython",
    "version": 3
   },
   "file_extension": ".py",
   "mimetype": "text/x-python",
   "name": "python",
   "nbconvert_exporter": "python",
   "pygments_lexer": "ipython3",
   "version": "3.9.12"
  }
 },
 "nbformat": 4,
 "nbformat_minor": 5
}
