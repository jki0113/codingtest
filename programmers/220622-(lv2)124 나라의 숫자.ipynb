{
 "cells": [
  {
   "cell_type": "code",
   "execution_count": 1,
   "id": "600a784b",
   "metadata": {},
   "outputs": [],
   "source": []
  },
  {
   "cell_type": "code",
   "execution_count": 118,
   "id": "322a3815",
   "metadata": {
    "scrolled": true
   },
   "outputs": [
    {
     "name": "stdout",
     "output_type": "stream",
     "text": [
      "1\n",
      "2\n",
      "4\n",
      "11\n",
      "12\n",
      "14\n",
      "21\n",
      "22\n",
      "24\n",
      "41\n"
     ]
    }
   ],
   "source": [
    "def solution(n):\n",
    "    result = []\n",
    "    while n:\n",
    "        t = n % 3\n",
    "        if not t:\n",
    "            t = 3\n",
    "            n -= 1\n",
    "        result.append(str(t))\n",
    "        n //= 3\n",
    "    for i in range(len(result)):\n",
    "        if result[i] == '3':\n",
    "            result[i] = '4'\n",
    "    return ''.join(result[::-1])\n",
    "\n",
    "\n",
    "for i in range(1,11,1):\n",
    "#     print(solution(i))\n",
    "    print(solution(i))\n",
    "#     pass"
   ]
  },
  {
   "cell_type": "code",
   "execution_count": 112,
   "id": "ecf8281c",
   "metadata": {
    "scrolled": false
   },
   "outputs": [
    {
     "name": "stdout",
     "output_type": "stream",
     "text": [
      "1\n",
      "2\n",
      "10\n",
      "11\n",
      "12\n",
      "20\n",
      "21\n",
      "22\n",
      "100\n",
      "101\n"
     ]
    }
   ],
   "source": [
    "def solution(n):\n",
    "    result = []\n",
    "    while True:\n",
    "        ternary = divmod(n,3)\n",
    "        n = ternary[0]\n",
    "        result.append(str(ternary[1]))\n",
    "        if ternary[0] < 3:\n",
    "            result.append(str(ternary[0]))\n",
    "            break\n",
    "    return str(int(''.join(result[::-1])))\n",
    "    \n",
    "\n",
    "for i in range(1,11,1):\n",
    "    print(solution(i))"
   ]
  },
  {
   "cell_type": "code",
   "execution_count": 76,
   "id": "9c6fa12c",
   "metadata": {},
   "outputs": [
    {
     "data": {
      "text/plain": [
       "(1, 1)"
      ]
     },
     "execution_count": 76,
     "metadata": {},
     "output_type": "execute_result"
    }
   ],
   "source": []
  }
 ],
 "metadata": {
  "kernelspec": {
   "display_name": "Python 3 (ipykernel)",
   "language": "python",
   "name": "python3"
  },
  "language_info": {
   "codemirror_mode": {
    "name": "ipython",
    "version": 3
   },
   "file_extension": ".py",
   "mimetype": "text/x-python",
   "name": "python",
   "nbconvert_exporter": "python",
   "pygments_lexer": "ipython3",
   "version": "3.9.12"
  }
 },
 "nbformat": 4,
 "nbformat_minor": 5
}
