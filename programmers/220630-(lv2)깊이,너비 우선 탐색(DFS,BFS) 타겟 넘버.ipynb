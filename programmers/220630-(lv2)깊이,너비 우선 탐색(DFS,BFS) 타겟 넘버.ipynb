{
 "cells": [
  {
   "cell_type": "code",
   "execution_count": null,
   "id": "5ad7d579",
   "metadata": {},
   "outputs": [],
   "source": []
  },
  {
   "cell_type": "code",
   "execution_count": null,
   "id": "a02fea91",
   "metadata": {},
   "outputs": [],
   "source": []
  },
  {
   "cell_type": "code",
   "execution_count": 6,
   "id": "0d0094f3",
   "metadata": {},
   "outputs": [
    {
     "name": "stdout",
     "output_type": "stream",
     "text": [
      "[1, -1]\n",
      "[2, 0, 0, -2]\n",
      "[3, 1, 1, -1, 1, -1, -1, -3]\n",
      "[4, 2, 2, 0, 2, 0, 0, -2, 2, 0, 0, -2, 0, -2, -2, -4]\n",
      "[5, 3, 3, 1, 3, 1, 1, -1, 3, 1, 1, -1, 1, -1, -1, -3, 3, 1, 1, -1, 1, -1, -1, -3, 1, -1, -1, -3, -1, -3, -3, -5]\n",
      "my output: 5 -> expected output: 5\n",
      "[4, -4]\n",
      "[5, 3, -3, -5]\n",
      "[7, 3, 5, 1, -1, -5, -3, -7]\n",
      "[8, 6, 4, 2, 6, 4, 2, 0, 0, -2, -4, -6, -2, -4, -6, -8]\n",
      "my output: 2 -> expected output: 2\n"
     ]
    }
   ],
   "source": [
    "ip1_1=[1, 1, 1, 1, 1]\n",
    "ip1_2=3\n",
    "op1=5\n",
    "\n",
    "ip2_1=[4, 1, 2, 1]\n",
    "ip2_2=4\n",
    "op2=2\n",
    "\n",
    "def solution(numbers, target):\n",
    "    answer = 0\n",
    "    result = [0]\n",
    "    for num in numbers:\n",
    "        tmp = []\n",
    "        for i in result:\n",
    "            tmp.append(i+num)\n",
    "            tmp.append(i-num)\n",
    "        print(tmp)\n",
    "        result = tmp\n",
    "#     print(result)\n",
    "    for i in result:\n",
    "        if i == target:\n",
    "            answer+=1\n",
    "    return answer\n",
    "\n",
    "print(f'my output: {solution(ip1_1,ip1_2)} -> expected output: {op1}')\n",
    "print(f'my output: {solution(ip2_1,ip2_2)} -> expected output: {op2}')\n"
   ]
  },
  {
   "cell_type": "code",
   "execution_count": null,
   "id": "4cf49b19",
   "metadata": {},
   "outputs": [],
   "source": []
  },
  {
   "cell_type": "code",
   "execution_count": 2,
   "id": "399b1de9",
   "metadata": {},
   "outputs": [
    {
     "name": "stdout",
     "output_type": "stream",
     "text": [
      "1\n",
      "1\n",
      "1\n",
      "1\n",
      "1\n",
      "my output: None -> expected output: 5\n",
      "4\n",
      "1\n",
      "2\n",
      "1\n",
      "my output: None -> expected output: 2\n"
     ]
    }
   ],
   "source": [
    "ip1_1=[1, 1, 1, 1, 1]\n",
    "ip1_2=3\n",
    "op1=5\n",
    "\n",
    "ip2_1=[4, 1, 2, 1]\n",
    "ip2_2=4\n",
    "op2=2\n",
    "\n",
    "def solution(numbers, target):\n",
    "    answer=0\n",
    "    for i in numbers:\n",
    "        tmp=[]\n",
    "        for j in numbers:\n",
    "            \n",
    "        print(i)\n",
    "print(f'my output: {solution(ip1_1,ip1_2)} -> expected output: {op1}')\n",
    "print(f'my output: {solution(ip2_1,ip2_2)} -> expected output: {op2}')\n"
   ]
  },
  {
   "cell_type": "code",
   "execution_count": null,
   "id": "a2bdc70a",
   "metadata": {},
   "outputs": [],
   "source": []
  },
  {
   "cell_type": "code",
   "execution_count": null,
   "id": "c5b335ef",
   "metadata": {},
   "outputs": [],
   "source": []
  },
  {
   "cell_type": "code",
   "execution_count": null,
   "id": "87781681",
   "metadata": {},
   "outputs": [],
   "source": []
  },
  {
   "cell_type": "code",
   "execution_count": null,
   "id": "c32e80fc",
   "metadata": {},
   "outputs": [],
   "source": []
  },
  {
   "cell_type": "code",
   "execution_count": null,
   "id": "ced60f5c",
   "metadata": {},
   "outputs": [],
   "source": []
  },
  {
   "cell_type": "code",
   "execution_count": null,
   "id": "78672f34",
   "metadata": {},
   "outputs": [],
   "source": []
  },
  {
   "cell_type": "code",
   "execution_count": null,
   "id": "5733a2ec",
   "metadata": {},
   "outputs": [],
   "source": []
  },
  {
   "cell_type": "code",
   "execution_count": null,
   "id": "1423ac2b",
   "metadata": {},
   "outputs": [],
   "source": []
  },
  {
   "cell_type": "code",
   "execution_count": null,
   "id": "e832a608",
   "metadata": {},
   "outputs": [],
   "source": []
  },
  {
   "cell_type": "code",
   "execution_count": null,
   "id": "d38b6908",
   "metadata": {},
   "outputs": [],
   "source": []
  },
  {
   "cell_type": "code",
   "execution_count": null,
   "id": "1d76df0b",
   "metadata": {},
   "outputs": [],
   "source": []
  },
  {
   "cell_type": "code",
   "execution_count": null,
   "id": "546697fc",
   "metadata": {},
   "outputs": [],
   "source": []
  },
  {
   "cell_type": "code",
   "execution_count": null,
   "id": "b0ac0f52",
   "metadata": {},
   "outputs": [],
   "source": []
  },
  {
   "cell_type": "code",
   "execution_count": null,
   "id": "1d60d74b",
   "metadata": {},
   "outputs": [],
   "source": []
  },
  {
   "cell_type": "code",
   "execution_count": null,
   "id": "4c3d22cb",
   "metadata": {},
   "outputs": [],
   "source": []
  },
  {
   "cell_type": "code",
   "execution_count": null,
   "id": "73ead48a",
   "metadata": {},
   "outputs": [],
   "source": []
  }
 ],
 "metadata": {
  "kernelspec": {
   "display_name": "Python 3 (ipykernel)",
   "language": "python",
   "name": "python3"
  },
  "language_info": {
   "codemirror_mode": {
    "name": "ipython",
    "version": 3
   },
   "file_extension": ".py",
   "mimetype": "text/x-python",
   "name": "python",
   "nbconvert_exporter": "python",
   "pygments_lexer": "ipython3",
   "version": "3.9.12"
  }
 },
 "nbformat": 4,
 "nbformat_minor": 5
}
