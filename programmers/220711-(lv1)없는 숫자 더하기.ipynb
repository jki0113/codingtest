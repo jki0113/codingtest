{
 "cells": [
  {
   "cell_type": "code",
   "execution_count": 1,
   "id": "8bdf5be5",
   "metadata": {},
   "outputs": [
    {
     "data": {
      "text/html": [
       "<style>.container { width:100% !important; }</style>"
      ],
      "text/plain": [
       "<IPython.core.display.HTML object>"
      ]
     },
     "metadata": {},
     "output_type": "display_data"
    }
   ],
   "source": [
    "from IPython.display import display, HTML\n",
    "display(HTML(\"<style>.container { width:100% !important; }</style>\"))\n"
   ]
  },
  {
   "cell_type": "code",
   "execution_count": 5,
   "id": "77d31629",
   "metadata": {},
   "outputs": [
    {
     "name": "stdout",
     "output_type": "stream",
     "text": [
      "14 -> 14\n",
      "6 -> 6\n"
     ]
    }
   ],
   "source": [
    "n1=[1,2,3,4,6,7,8,0]\n",
    "r1=14\n",
    "n2=[5,8,4,0,6,7,9]\n",
    "r2=6\n",
    "\n",
    "def solution(numbers):\n",
    "    answer = 45 # 0~9까지 더한 값은 45이다\n",
    "    # numbers는 중복되지 않으며 0~9까지의 배열로 45에서 numbers배열에 있는 값을 뺀다\n",
    "    for i in numbers:\n",
    "        answer -= i\n",
    "    return answer\n",
    "\n",
    "print(f\"{solution(n1)} -> {r1}\")\n",
    "print(f\"{solution(n2)} -> {r2}\")"
   ]
  },
  {
   "cell_type": "code",
   "execution_count": 3,
   "id": "e177849d",
   "metadata": {},
   "outputs": [
    {
     "data": {
      "text/plain": [
       "45"
      ]
     },
     "execution_count": 3,
     "metadata": {},
     "output_type": "execute_result"
    }
   ],
   "source": [
    "a=0\n",
    "for i in range(10):\n",
    "    a+=i\n",
    "    \n",
    "a"
   ]
  },
  {
   "cell_type": "code",
   "execution_count": null,
   "id": "af3635ac",
   "metadata": {},
   "outputs": [],
   "source": []
  }
 ],
 "metadata": {
  "kernelspec": {
   "display_name": "Python 3 (ipykernel)",
   "language": "python",
   "name": "python3"
  },
  "language_info": {
   "codemirror_mode": {
    "name": "ipython",
    "version": 3
   },
   "file_extension": ".py",
   "mimetype": "text/x-python",
   "name": "python",
   "nbconvert_exporter": "python",
   "pygments_lexer": "ipython3",
   "version": "3.9.12"
  }
 },
 "nbformat": 4,
 "nbformat_minor": 5
}
