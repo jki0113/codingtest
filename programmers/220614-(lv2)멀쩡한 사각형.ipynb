{
 "cells": [
  {
   "cell_type": "code",
   "execution_count": null,
   "id": "8afc6f7b",
   "metadata": {},
   "outputs": [],
   "source": []
  },
  {
   "cell_type": "code",
   "execution_count": 6,
   "id": "50ef7267",
   "metadata": {},
   "outputs": [],
   "source": [
    "w = 8\n",
    "h = 12"
   ]
  },
  {
   "cell_type": "code",
   "execution_count": 15,
   "id": "6cb4dd73",
   "metadata": {},
   "outputs": [],
   "source": [
    "def solution(w,h):\n",
    "    answer = w*h-((w-h)*(w-h))\n",
    "    return answer"
   ]
  },
  {
   "cell_type": "code",
   "execution_count": 16,
   "id": "93a8714a",
   "metadata": {},
   "outputs": [
    {
     "data": {
      "text/plain": [
       "80"
      ]
     },
     "execution_count": 16,
     "metadata": {},
     "output_type": "execute_result"
    }
   ],
   "source": [
    "w*h-((w-h)*(w-h))"
   ]
  },
  {
   "cell_type": "code",
   "execution_count": 17,
   "id": "f20dd251",
   "metadata": {},
   "outputs": [
    {
     "data": {
      "text/plain": [
       "9"
      ]
     },
     "execution_count": 17,
     "metadata": {},
     "output_type": "execute_result"
    }
   ],
   "source": [
    "solution(3,3)"
   ]
  },
  {
   "cell_type": "code",
   "execution_count": null,
   "id": "c96ecac3",
   "metadata": {},
   "outputs": [],
   "source": [
    "# 1.0 지점을 지나는 경우 -> 1 1 1 1 1 1 1 1 1 1 = >10 최대공약수 10\n",
    "# 0.9 지점을 지나는 경우 -> 2 2 2 2 2 2 2 2 2 => 18 최대공약수 \n",
    "# 0.8 지점을 지나는 경우 -> 2 2 2 2 2 2 2 2 => 16\n",
    "# 0.7 지점을 지나는 경우 -> 2 2 3 2 3 2 2 => 16\n",
    "# 0.6 지점을 지나는 경우 -> 2 3 2 2 3 2 => 14\n",
    "# 0.5 지점을 지나는 경우 -> 2 2 2 2 2 => 10\n",
    "# 0.4 지점을 지나는 경우 -> 3 3 3 3 => 12\n",
    "# 0.3 지점을 지나는 경우 -> 4 4 4 => 12\n",
    "# 0.2 지점을 지나는 경우 -> 5 5 => 10\n",
    "# 0.1 지점을 지나는 경우 -> 10 => 10 => 전체를 다 조진다"
   ]
  },
  {
   "cell_type": "code",
   "execution_count": 18,
   "id": "01e263b4",
   "metadata": {},
   "outputs": [
    {
     "data": {
      "text/plain": [
       "192"
      ]
     },
     "execution_count": 18,
     "metadata": {},
     "output_type": "execute_result"
    }
   ],
   "source": [
    "16*12"
   ]
  },
  {
   "cell_type": "markdown",
   "id": "5337e7ba",
   "metadata": {},
   "source": [
    "# 실패 - 정답확인\n",
    "##### 최소공배수를 활용하여 푸는 문제(중1 수학)"
   ]
  },
  {
   "cell_type": "code",
   "execution_count": 19,
   "id": "4991a255",
   "metadata": {},
   "outputs": [],
   "source": [
    "def gcd(a, b):\n",
    "    return b if a % b == 0 else gcd(b, a % b)\n",
    "\n",
    "\n",
    "def solution(w, h):\n",
    "    whole = w * h;\n",
    "    broken = w + h - gcd(w, h)\n",
    "    return whole - broken"
   ]
  },
  {
   "cell_type": "code",
   "execution_count": null,
   "id": "9ee5f2d6",
   "metadata": {},
   "outputs": [],
   "source": []
  }
 ],
 "metadata": {
  "kernelspec": {
   "display_name": "BKST",
   "language": "python",
   "name": "bkst"
  },
  "language_info": {
   "codemirror_mode": {
    "name": "ipython",
    "version": 3
   },
   "file_extension": ".py",
   "mimetype": "text/x-python",
   "name": "python",
   "nbconvert_exporter": "python",
   "pygments_lexer": "ipython3",
   "version": "3.8.13"
  }
 },
 "nbformat": 4,
 "nbformat_minor": 5
}
