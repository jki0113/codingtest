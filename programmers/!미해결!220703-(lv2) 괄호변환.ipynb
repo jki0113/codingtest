{
 "cells": [
  {
   "cell_type": "code",
   "execution_count": 2,
   "id": "f63bd9d0",
   "metadata": {},
   "outputs": [
    {
     "name": "stderr",
     "output_type": "stream",
     "text": [
      "C:\\Users\\jki01\\AppData\\Local\\Temp\\ipykernel_21064\\3777615979.py:1: DeprecationWarning: Importing display from IPython.core.display is deprecated since IPython 7.14, please import from IPython display\n",
      "  from IPython.core.display import display, HTML\n"
     ]
    },
    {
     "data": {
      "text/html": [
       "<style>.container { width:100% !important; }</style>"
      ],
      "text/plain": [
       "<IPython.core.display.HTML object>"
      ]
     },
     "metadata": {},
     "output_type": "display_data"
    }
   ],
   "source": [
    "from IPython.core.display import display, HTML\n",
    "display(HTML(\"<style>.container { width:100% !important; }</style>\"))"
   ]
  },
  {
   "cell_type": "code",
   "execution_count": 9,
   "id": "4da6076c",
   "metadata": {},
   "outputs": [
    {
     "name": "stdout",
     "output_type": "stream",
     "text": [
      "8 "
     ]
    }
   ],
   "source": [
    "def dfs(graph,v,visited):\n",
    "    visited[v]=True\n",
    "    print(v,end=' ')\n",
    "    for i in graph[v]:\n",
    "        if not visited[v]:\n",
    "            dfs(graph,i,visited)\n",
    "graph = [\n",
    "      []\n",
    "    , [2,3,8]\n",
    "    , [1,7]\n",
    "    , [1,4,5]\n",
    "    , [3,5]\n",
    "    , [3,4]\n",
    "    , [7]\n",
    "    , [2,6,8]\n",
    "    , [1,7]\n",
    "]\n",
    "\n",
    "visited = [False]*9\n",
    "\n",
    "dfs(graph, 8, visited)\n",
    "\n",
    "\n",
    "\n",
    "\n"
   ]
  },
  {
   "cell_type": "code",
   "execution_count": null,
   "id": "712e52e5",
   "metadata": {},
   "outputs": [],
   "source": [
    "n=4\n",
    "m=5\n",
    "graph = [\n",
    "      ['0','0','1','1','0']\n",
    "    , ['0','0','0','1','1']\n",
    "    , ['1','1','1','1','1']\n",
    "    , ['0','0','0','0','0']\n",
    "]\n",
    "\n",
    "def sol(n,m,graph):\n",
    "    \n",
    "\n",
    "\n",
    "\n"
   ]
  },
  {
   "cell_type": "code",
   "execution_count": null,
   "id": "c7cddd9f",
   "metadata": {},
   "outputs": [],
   "source": []
  },
  {
   "cell_type": "code",
   "execution_count": null,
   "id": "22c2bf43",
   "metadata": {},
   "outputs": [],
   "source": []
  }
 ],
 "metadata": {
  "kernelspec": {
   "display_name": "Python 3 (ipykernel)",
   "language": "python",
   "name": "python3"
  },
  "language_info": {
   "codemirror_mode": {
    "name": "ipython",
    "version": 3
   },
   "file_extension": ".py",
   "mimetype": "text/x-python",
   "name": "python",
   "nbconvert_exporter": "python",
   "pygments_lexer": "ipython3",
   "version": "3.9.12"
  }
 },
 "nbformat": 4,
 "nbformat_minor": 5
}
