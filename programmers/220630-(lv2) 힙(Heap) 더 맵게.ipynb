{
 "cells": [
  {
   "cell_type": "code",
   "execution_count": null,
   "id": "355ff86d",
   "metadata": {},
   "outputs": [],
   "source": []
  },
  {
   "cell_type": "code",
   "execution_count": null,
   "id": "29754bef",
   "metadata": {},
   "outputs": [],
   "source": []
  },
  {
   "cell_type": "code",
   "execution_count": 17,
   "id": "0475d534",
   "metadata": {},
   "outputs": [
    {
     "name": "stdout",
     "output_type": "stream",
     "text": [
      "my output: 2 -> expected output: 2\n"
     ]
    }
   ],
   "source": [
    "ip1 = [1, 2, 3, 9, 10, 12]\n",
    "ip2 = 7\n",
    "op = 2\n",
    "\n",
    "\n",
    "def solution(scoville, K):\n",
    "    scoville = set(scoville) #혹시모를 중복 제거\n",
    "    cnt = 0\n",
    "    while True:\n",
    "        min_scv1 = min(scoville)\n",
    "        scoville.remove(min_scv1)\n",
    "        \n",
    "        min_scv2 = min(scoville)\n",
    "        scoville.remove(min_scv2)\n",
    "        \n",
    "        cnt += 1\n",
    "        \n",
    "        if (min_scv1 + 2*min_scv2) >= K:\n",
    "            return cnt\n",
    "        \n",
    "print(f'my output: {solution(ip1,ip2)} -> expected output: {op}')\n"
   ]
  },
  {
   "cell_type": "code",
   "execution_count": 119,
   "id": "2e44cf41",
   "metadata": {},
   "outputs": [
    {
     "name": "stdout",
     "output_type": "stream",
     "text": [
      "my output: 2 -> expected output: 2\n"
     ]
    }
   ],
   "source": [
    "ip1 = [1, 2, 3, 9, 10, 12]\n",
    "ip2 = 7\n",
    "op = 2\n",
    "\n",
    "\n",
    "def solution(scoville, K):\n",
    "    import heapq\n",
    "    heapq.heapify(scoville)\n",
    "    cnt = 0\n",
    "    while True:\n",
    "        min_scv1 = heapq.heappop(scoville)\n",
    "        if min_scv1 >= K:\n",
    "            return cnt\n",
    "        elif len(scoville) == 0 and min_scv1 < K:\n",
    "            return -1\n",
    "        else:\n",
    "            min_scv2 = heapq.heappop(scoville)\n",
    "            heapq.heappush(scoville, (min_scv1 + (2*min_scv2)))\n",
    "            cnt += 1\n",
    "        \n",
    "print(f'my output: {solution(ip1,ip2)} -> expected output: {op}')\n"
   ]
  },
  {
   "cell_type": "code",
   "execution_count": 117,
   "id": "7e788146",
   "metadata": {},
   "outputs": [
    {
     "name": "stdout",
     "output_type": "stream",
     "text": [
      "my output: 4 -> expected output: 2\n"
     ]
    }
   ],
   "source": []
  },
  {
   "cell_type": "code",
   "execution_count": null,
   "id": "390145c8",
   "metadata": {},
   "outputs": [],
   "source": []
  }
 ],
 "metadata": {
  "kernelspec": {
   "display_name": "Python 3 (ipykernel)",
   "language": "python",
   "name": "python3"
  },
  "language_info": {
   "codemirror_mode": {
    "name": "ipython",
    "version": 3
   },
   "file_extension": ".py",
   "mimetype": "text/x-python",
   "name": "python",
   "nbconvert_exporter": "python",
   "pygments_lexer": "ipython3",
   "version": "3.9.12"
  }
 },
 "nbformat": 4,
 "nbformat_minor": 5
}
