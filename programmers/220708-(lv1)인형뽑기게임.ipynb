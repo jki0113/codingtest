{
 "cells": [
  {
   "cell_type": "code",
   "execution_count": 1,
   "id": "8fae1051",
   "metadata": {},
   "outputs": [
    {
     "data": {
      "text/html": [
       "<style>.container { width:100% !important; }</style>"
      ],
      "text/plain": [
       "<IPython.core.display.HTML object>"
      ]
     },
     "metadata": {},
     "output_type": "display_data"
    }
   ],
   "source": [
    "from IPython.display import display, HTML\n",
    "display(HTML(\"<style>.container { width:100% !important; }</style>\"))\n"
   ]
  },
  {
   "cell_type": "markdown",
   "id": "e80cea0e",
   "metadata": {},
   "source": [
    "##### 1차시도"
   ]
  },
  {
   "cell_type": "code",
   "execution_count": null,
   "id": "269aeb46",
   "metadata": {},
   "outputs": [],
   "source": [
    "def solution(board, moves):\n",
    "    a=[[],[],[],[],[]]\n",
    "    for i in board:\n",
    "        for j in range(5):\n",
    "            a[j].append(i[j])\n",
    "            \n",
    "    b=[]\n",
    "    for i in moves:\n",
    "        for j in range(5):\n",
    "            if a[i-1][j]>0:\n",
    "                b.append(a[i-1][j])\n",
    "                a[i-1][j]=0\n",
    "                break\n",
    "            else:\n",
    "                pass\n",
    "    c=[]     \n",
    "    for i in b:\n",
    "        if len(c)==0:\n",
    "            c.append(i)\n",
    "        elif c[-1] == i:\n",
    "            c.pop()\n",
    "        else:\n",
    "            c.append(i)\n",
    "    return (len(b)-len(c))"
   ]
  },
  {
   "cell_type": "markdown",
   "id": "f90c4a87",
   "metadata": {},
   "source": [
    "##### 효율성 개선을 위한 불필요 for문 제거"
   ]
  },
  {
   "cell_type": "code",
   "execution_count": 10,
   "id": "69cfb69c",
   "metadata": {},
   "outputs": [
    {
     "name": "stdout",
     "output_type": "stream",
     "text": [
      "1\n",
      "1 -> [0, 0, 0, 0, 0]\n",
      "1 -> [0, 0, 1, 0, 3]\n",
      "1 -> [0, 2, 5, 0, 1]\n",
      "1 -> [4, 2, 4, 4, 2]\n",
      "[4]\n",
      "5\n",
      "5 -> [0, 0, 0, 0, 0]\n",
      "5 -> [0, 0, 1, 0, 3]\n",
      "[4, 3]\n",
      "3\n",
      "3 -> [0, 0, 0, 0, 0]\n",
      "3 -> [0, 0, 1, 0, 0]\n",
      "[4, 3, 1]\n",
      "5\n",
      "5 -> [0, 0, 0, 0, 0]\n",
      "5 -> [0, 0, 0, 0, 0]\n",
      "5 -> [0, 2, 5, 0, 1]\n",
      "[4, 3, 1, 1]\n",
      "1\n",
      "1 -> [0, 0, 0, 0, 0]\n",
      "1 -> [0, 0, 0, 0, 0]\n",
      "1 -> [0, 2, 5, 0, 0]\n",
      "1 -> [0, 2, 4, 4, 2]\n",
      "1 -> [3, 5, 1, 3, 1]\n",
      "[4, 3, 1, 1, 3]\n",
      "2\n",
      "2 -> [0, 0, 0, 0, 0]\n",
      "2 -> [0, 0, 0, 0, 0]\n",
      "2 -> [0, 2, 5, 0, 0]\n",
      "[4, 3, 1, 1, 3, 2]\n",
      "1\n",
      "1 -> [0, 0, 0, 0, 0]\n",
      "1 -> [0, 0, 0, 0, 0]\n",
      "1 -> [0, 0, 5, 0, 0]\n",
      "1 -> [0, 2, 4, 4, 2]\n",
      "1 -> [0, 5, 1, 3, 1]\n",
      "4\n",
      "4 -> [0, 0, 0, 0, 0]\n",
      "4 -> [0, 0, 0, 0, 0]\n",
      "4 -> [0, 0, 5, 0, 0]\n",
      "4 -> [0, 2, 4, 4, 2]\n",
      "[4, 3, 1, 1, 3, 2, 4]\n",
      "4 -> 4\n"
     ]
    }
   ],
   "source": [
    "board = [[0,0,0,0,0],[0,0,1,0,3],[0,2,5,0,1],[4,2,4,4,2],[3,5,1,3,1]]\t\n",
    "moves = [1,5,3,5,1,2,1,4]\t\n",
    "result = 4\n",
    "\n",
    "def solution(board, moves):\n",
    "    b=[]\n",
    "    for i in moves:\n",
    "        for j in board:\n",
    "            if j[i-1] > 0:\n",
    "                b.append(j[i-1])\n",
    "                j[i-1]=0\n",
    "                break\n",
    "            else:\n",
    "                pass\n",
    "    c=[]     \n",
    "    for i in b:\n",
    "        if len(c)==0:\n",
    "            c.append(i)\n",
    "        elif c[-1] == i:\n",
    "            c.pop()\n",
    "        else:\n",
    "            c.append(i)\n",
    "    return (len(b)-len(c))\n",
    "\n",
    "print(f'{solution(board, moves)} -> {result}')"
   ]
  },
  {
   "cell_type": "code",
   "execution_count": null,
   "id": "6430f794",
   "metadata": {},
   "outputs": [],
   "source": []
  },
  {
   "cell_type": "code",
   "execution_count": null,
   "id": "803f8d0a",
   "metadata": {},
   "outputs": [],
   "source": []
  }
 ],
 "metadata": {
  "kernelspec": {
   "display_name": "Python 3 (ipykernel)",
   "language": "python",
   "name": "python3"
  },
  "language_info": {
   "codemirror_mode": {
    "name": "ipython",
    "version": 3
   },
   "file_extension": ".py",
   "mimetype": "text/x-python",
   "name": "python",
   "nbconvert_exporter": "python",
   "pygments_lexer": "ipython3",
   "version": "3.9.12"
  }
 },
 "nbformat": 4,
 "nbformat_minor": 5
}
