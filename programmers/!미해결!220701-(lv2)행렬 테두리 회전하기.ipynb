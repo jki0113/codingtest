{
 "cells": [
  {
   "cell_type": "code",
   "execution_count": null,
   "id": "5ad7d579",
   "metadata": {},
   "outputs": [],
   "source": []
  },
  {
   "cell_type": "code",
   "execution_count": null,
   "id": "a02fea91",
   "metadata": {},
   "outputs": [],
   "source": []
  },
  {
   "cell_type": "code",
   "execution_count": null,
   "id": "399b1de9",
   "metadata": {},
   "outputs": [],
   "source": []
  },
  {
   "cell_type": "code",
   "execution_count": 73,
   "id": "729703a0",
   "metadata": {},
   "outputs": [
    {
     "name": "stdout",
     "output_type": "stream",
     "text": [
      "\n",
      "(0,5) (1,5) (2,5) (3,5) (4,5) (5,5) \n",
      "(0,4) (1,4) (2,4) (3,4) (4,4) (5,4) \n",
      "(0,3) (1,3) (2,3) (3,3) (4,3) (5,3) \n",
      "(0,2) (1,2) (2,2) (3,2) (4,2) (5,2) \n",
      "(0,1) (1,1) (2,1) (3,1) (4,1) (5,1) \n",
      "(0,0) (1,0) (2,0) (3,0) (4,0) (5,0) my output: [[0, 0, 0, 0, 0, 0], [0, 0, 0, 0, 0, 0], [0, 0, 0, 0, 0, 0], [0, 0, 0, 0, 0, 0], [0, 0, 0, 0, 0, 0], [0, 0, 0, 0, 0, 0]] -> expected output: [8, 10, 25]\n",
      "\n",
      "(0,2) (1,2) (2,2) \n",
      "(0,1) (1,1) (2,1) \n",
      "(0,0) (1,0) (2,0) my output: [[0, 0, 0], [0, 0, 0], [0, 0, 0]] -> expected output: [1, 1, 5, 3]\n"
     ]
    }
   ],
   "source": [
    "ip1_1=6\n",
    "ip1_2=6\n",
    "ip1_3=[[2,2,5,4],[3,3,6,6],[5,1,6,3]]\n",
    "op1=[8, 10, 25]\n",
    "\n",
    "ip2_1=3\n",
    "ip2_2=3\n",
    "ip2_3=[[1,1,2,2],[1,2,2,3],[2,1,3,2],[2,2,3,3]]\t\n",
    "op2=[1, 1, 5, 3]\n",
    "\n",
    "ip3_1=100\n",
    "ip3_2=97\n",
    "ip3_3=[[1,1,100,97]]\n",
    "op3=[1]\n",
    "\n",
    "\n",
    "def solution(rows, columns, queries):\n",
    "    answer = [[0 for col in range(columns)] for row in range(rows)]\n",
    "    num=1\n",
    "    for y in range(rows-1, -1, -1):\n",
    "#         print('')\n",
    "        print('')\n",
    "        for x in range(columns):\n",
    "            print(f'({x},{y}) ', end='')\n",
    "#             answer[x][y] = num\n",
    "            \n",
    "#             print(num, end=' ')\n",
    "            num+=1\n",
    "#     print('')\n",
    "    \n",
    "#     for i in queries:\n",
    "#         tmp1 = (i[0], i[1])\n",
    "#         tmp2 = (i[2], i[3])\n",
    "#         print(tmp1, tmp2)\n",
    "    return answer\n",
    "\n",
    "print(f'my output: {solution(ip1_1, ip1_2, ip1_3)} -> expected output: {op1}')\n",
    "print(f'my output: {solution(ip2_1, ip2_2, ip2_3)} -> expected output: {op2}')\n",
    "# print(f'my output: {solution(ip3_1, ip3_2, ip3_3)} -> expected output: {op3}')\n"
   ]
  },
  {
   "cell_type": "code",
   "execution_count": 79,
   "id": "8078f014",
   "metadata": {},
   "outputs": [
    {
     "name": "stdout",
     "output_type": "stream",
     "text": [
      "36\n",
      "my output: [[1, 7, 13, 19, 25, 31], [2, 8, 14, 20, 26, 32], [3, 9, 15, 21, 27, 33], [4, 10, 16, 22, 28, 34], [5, 11, 17, 23, 29, 35], [6, 12, 18, 24, 30, 36]] -> expected output: [8, 10, 25]\n"
     ]
    },
    {
     "ename": "IndexError",
     "evalue": "list index out of range",
     "output_type": "error",
     "traceback": [
      "\u001b[1;31m---------------------------------------------------------------------------\u001b[0m",
      "\u001b[1;31mIndexError\u001b[0m                                Traceback (most recent call last)",
      "Input \u001b[1;32mIn [79]\u001b[0m, in \u001b[0;36m<cell line: 33>\u001b[1;34m()\u001b[0m\n\u001b[0;32m     30\u001b[0m     \u001b[38;5;28;01mreturn\u001b[39;00m answer\n\u001b[0;32m     32\u001b[0m \u001b[38;5;28mprint\u001b[39m(\u001b[38;5;124mf\u001b[39m\u001b[38;5;124m'\u001b[39m\u001b[38;5;124mmy output: \u001b[39m\u001b[38;5;132;01m{\u001b[39;00msolution(ip1_1, ip1_2, ip1_3)\u001b[38;5;132;01m}\u001b[39;00m\u001b[38;5;124m -> expected output: \u001b[39m\u001b[38;5;132;01m{\u001b[39;00mop1\u001b[38;5;132;01m}\u001b[39;00m\u001b[38;5;124m'\u001b[39m)\n\u001b[1;32m---> 33\u001b[0m \u001b[38;5;28mprint\u001b[39m(\u001b[38;5;124mf\u001b[39m\u001b[38;5;124m'\u001b[39m\u001b[38;5;124mmy output: \u001b[39m\u001b[38;5;132;01m{\u001b[39;00msolution(ip2_1, ip2_2, ip2_3)\u001b[38;5;132;01m}\u001b[39;00m\u001b[38;5;124m -> expected output: \u001b[39m\u001b[38;5;132;01m{\u001b[39;00mop2\u001b[38;5;132;01m}\u001b[39;00m\u001b[38;5;124m'\u001b[39m)\n",
      "Input \u001b[1;32mIn [79]\u001b[0m, in \u001b[0;36msolution\u001b[1;34m(rows, columns, queries)\u001b[0m\n\u001b[0;32m     27\u001b[0m         tmp2 \u001b[38;5;241m=\u001b[39m (i[\u001b[38;5;241m2\u001b[39m], i[\u001b[38;5;241m3\u001b[39m])\n\u001b[0;32m     28\u001b[0m \u001b[38;5;66;03m#         print(tmp1, tmp2)\u001b[39;00m\n\u001b[1;32m---> 29\u001b[0m     \u001b[38;5;28mprint\u001b[39m(\u001b[43manswer\u001b[49m\u001b[43m[\u001b[49m\u001b[38;5;241;43m5\u001b[39;49m\u001b[43m]\u001b[49m[\u001b[38;5;241m5\u001b[39m])\n\u001b[0;32m     30\u001b[0m     \u001b[38;5;28;01mreturn\u001b[39;00m answer\n",
      "\u001b[1;31mIndexError\u001b[0m: list index out of range"
     ]
    }
   ],
   "source": [
    "ip1_1=6\n",
    "ip1_2=6\n",
    "ip1_3=[[2,2,5,4],[3,3,6,6],[5,1,6,3]]\n",
    "op1=[8, 10, 25]\n",
    "\n",
    "ip2_1=3\n",
    "ip2_2=3\n",
    "ip2_3=[[1,1,2,2],[1,2,2,3],[2,1,3,2],[2,2,3,3]]\t\n",
    "op2=[1, 1, 5, 3]\n",
    "\n",
    "ip3_1=100\n",
    "ip3_2=97\n",
    "ip3_3=[[1,1,100,97]]\n",
    "op3=[1]\n",
    "\n",
    "\n",
    "def solution(rows, columns, queries):\n",
    "    answer = [[0 for col in range(columns)] for row in range(rows)]\n",
    "    num=1\n",
    "    for y in range(rows):\n",
    "        for x in range(columns):\n",
    "            answer[x][y] = num\n",
    "            num+=1\n",
    "    \n",
    "    for i in queries:\n",
    "        tmp1 = (i[0], i[1])\n",
    "        tmp2 = (i[2], i[3])\n",
    "#         print(tmp1, tmp2)\n",
    "    print(answer[5][5])\n",
    "    return answer\n",
    "\n",
    "print(f'my output: {solution(ip1_1, ip1_2, ip1_3)} -> expected output: {op1}')\n",
    "print(f'my output: {solution(ip2_1, ip2_2, ip2_3)} -> expected output: {op2}')\n",
    "# print(f'my output: {solution(ip3_1, ip3_2, ip3_3)} -> expected output: {op3}')\n"
   ]
  },
  {
   "cell_type": "code",
   "execution_count": 10,
   "id": "94d87e28",
   "metadata": {},
   "outputs": [
    {
     "name": "stdout",
     "output_type": "stream",
     "text": [
      "my output: [8, 15, 25] -> expected output: [8, 10, 25]\n",
      "my output: [1, 2, 4, 4] -> expected output: [1, 1, 5, 3]\n",
      "my output: [-100] -> expected output: [1]\n"
     ]
    }
   ],
   "source": [
    "ip1_1=6\n",
    "ip1_2=6\n",
    "ip1_3=[[2,2,5,4],[3,3,6,6],[5,1,6,3]]\n",
    "op1=[8, 10, 25]\n",
    "\n",
    "ip2_1=3\n",
    "ip2_2=3\n",
    "ip2_3=[[1,1,2,2],[1,2,2,3],[2,1,3,2],[2,2,3,3]]\t\n",
    "op2=[1, 1, 5, 3]\n",
    "\n",
    "ip3_1=100\n",
    "ip3_2=97\n",
    "ip3_3=[[1,1,100,97]]\n",
    "op3=[1]\n",
    "\n",
    "\n",
    "def solution(rows, columns, queries):\n",
    "    answer = [[0 for col in range(columns)] for row in range(rows)]\n",
    "    num=1\n",
    "    final = []\n",
    "    for x in range(rows):\n",
    "        for y in range(columns):\n",
    "            answer[x][y]=num\n",
    "            num+=1\n",
    "    for i in queries:\n",
    "#         print(answer)\n",
    "#         print(f'시작점->{i[1], i[0]}')\n",
    "#         print(f'끝는점->{i[3], i[2]}')\n",
    "        start = answer[i[0]-1][i[1]-1]\n",
    "        end = answer[i[2]-1][i[3]-1]\n",
    "#         print(f'시작값->{start}')\n",
    "#         print(f'끝는값->{end}')\n",
    "        result=[]\n",
    "        for j in range(abs(i[1]-i[3])):\n",
    "            answer[i[0]-1][i[1]-1] = answer[i[0]-1][i[1]-1]+j+1\n",
    "            answer[i[2]-1][i[3]-1] = answer[i[2]-1][i[3]-1]-1-j\n",
    "            result.append(start+1+j)\n",
    "            result.append(end-1-j)\n",
    "        for k in range(abs(i[0]-i[2])):\n",
    "            answer[i[2]-1][i[3]-1] = answer[i[2]-1][i[3]-1]-(rows*(k))\n",
    "            answer[i[0]-1][i[1]-1] = answer[i[0]-1][i[1]-1]-1-j\n",
    "            result.append(end-(rows*(k)))\n",
    "            result.append(start+(rows*(k)))\n",
    "#         print(result)\n",
    "        final.append(min(result))\n",
    "#     print(answer)\n",
    "    \n",
    "    return final\n",
    "\n",
    "print(f'my output: {solution(ip1_1, ip1_2, ip1_3)} -> expected output: {op1}')\n",
    "print(f'my output: {solution(ip2_1, ip2_2, ip2_3)} -> expected output: {op2}')\n",
    "print(f'my output: {solution(ip3_1, ip3_2, ip3_3)} -> expected output: {op3}')\n"
   ]
  },
  {
   "cell_type": "code",
   "execution_count": 11,
   "id": "d84a7553",
   "metadata": {},
   "outputs": [
    {
     "name": "stdout",
     "output_type": "stream",
     "text": [
      "[8, 10, 25]\n",
      "my output: [8, 10, 25] -> expected output: [8, 10, 25]\n",
      "my output: [1, 1, 5, 3] -> expected output: [1, 1, 5, 3]\n",
      "my output: [1] -> expected output: [1]\n"
     ]
    }
   ],
   "source": [
    "moveX = [0, 1, 0, -1]\n",
    "moveY = [1, 0, -1, 0]\n",
    "def make_matrix(rows, columns):\n",
    "    matrix = [[0] * columns for _ in range(rows)]\n",
    "    for i in range(1, rows + 1):\n",
    "        for j in range(1, columns + 1):\n",
    "            matrix[i - 1][j - 1] = (columns * (i - 1)) + j\n",
    "\n",
    "    return matrix\n",
    "\n",
    "def rotate(queries, matrix):\n",
    "    ar, ac, br, bc = queries\n",
    "    mins = []\n",
    "    ar -= 1\n",
    "    ac -= 1\n",
    "    br -= 1\n",
    "    bc -= 1\n",
    "    for i in range(bc-1, ac-1, -1):\n",
    "        matrix[ar][i], matrix[ar][i + 1] = matrix[ar][i + 1], matrix[ar][i]\n",
    "        mins.append(matrix[ar][i])\n",
    "        mins.append(matrix[ar][i + 1])\n",
    "    for i in range(ar, br):\n",
    "        matrix[i][ac], matrix[i + 1][ac] = matrix[i + 1][ac], matrix[i][ac]\n",
    "        mins.append(matrix[i][ac])\n",
    "        mins.append(matrix[i + 1][ac])\n",
    "    for i in range(ac, bc):\n",
    "        matrix[br][i], matrix[br][i+1] = matrix[br][i+1], matrix[br][i]\n",
    "        mins.append(matrix[br][i])\n",
    "        mins.append(matrix[br][i+1])\n",
    "    for i in range(br-1, ar, -1):\n",
    "        matrix[i][bc], matrix[i+1][bc] = matrix[i+1][bc], matrix[i][bc]\n",
    "        mins.append(matrix[i][bc])\n",
    "        mins.append(matrix[i+1][bc])\n",
    "    mins = set(mins)\n",
    "    return (matrix, min(mins))\n",
    "\n",
    "\n",
    "def solution(rows, columns, queries):\n",
    "    matrix = make_matrix(rows, columns)\n",
    "    result = []\n",
    "    for q in queries:\n",
    "        matrix, MIN = rotate(q, matrix)\n",
    "        result.append(MIN)\n",
    "    return result\n",
    "print(solution(6, 6, [[2,2,5,4],[3,3,6,6],[5,1,6,3]]))\n",
    "\n",
    "print(f'my output: {solution(ip1_1, ip1_2, ip1_3)} -> expected output: {op1}')\n",
    "print(f'my output: {solution(ip2_1, ip2_2, ip2_3)} -> expected output: {op2}')\n",
    "print(f'my output: {solution(ip3_1, ip3_2, ip3_3)} -> expected output: {op3}')\n"
   ]
  }
 ],
 "metadata": {
  "kernelspec": {
   "display_name": "Python 3 (ipykernel)",
   "language": "python",
   "name": "python3"
  },
  "language_info": {
   "codemirror_mode": {
    "name": "ipython",
    "version": 3
   },
   "file_extension": ".py",
   "mimetype": "text/x-python",
   "name": "python",
   "nbconvert_exporter": "python",
   "pygments_lexer": "ipython3",
   "version": "3.9.12"
  }
 },
 "nbformat": 4,
 "nbformat_minor": 5
}
