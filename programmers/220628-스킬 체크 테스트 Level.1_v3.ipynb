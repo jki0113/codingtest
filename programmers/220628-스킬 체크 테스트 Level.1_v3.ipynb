{
 "cells": [
  {
   "cell_type": "code",
   "execution_count": 1,
   "id": "59d24a05",
   "metadata": {},
   "outputs": [],
   "source": [
    "# 문제 설명\n",
    "# 정수를 담고 있는 배열 arr의 평균값을 return하는 함수, solution을 완성해보세요.\n",
    "\n",
    "# 제한사항\n",
    "# arr은 길이 1 이상, 100 이하인 배열입니다.\n",
    "# arr의 원소는 -10,000 이상 10,000 이하인 정수입니다.\n",
    "\n",
    "# arr\treturn\n",
    "# [1,2,3,4]\t2.5\n",
    "# [5,5]\t5"
   ]
  },
  {
   "cell_type": "code",
   "execution_count": 3,
   "id": "cd6e005b",
   "metadata": {},
   "outputs": [
    {
     "name": "stdout",
     "output_type": "stream",
     "text": [
      "my output: 2.5 -> expected output: 2.5\n",
      "my output: 5.0 -> expected output: 5\n"
     ]
    }
   ],
   "source": [
    "arr1 = [1,2,3,4]\n",
    "r1 = 2.5\n",
    "arr2 = [5,5]\n",
    "r2 = 5\n",
    "\n",
    "def solution(arr):\n",
    "    sum_ = 0\n",
    "    for i in arr:\n",
    "        sum_+=i\n",
    "    return sum_ / len(arr)\n",
    "\n",
    "print(f'my output: {solution(arr1)} -> expected output: {r1}')\n",
    "print(f'my output: {solution(arr2)} -> expected output: {r2}')"
   ]
  },
  {
   "cell_type": "code",
   "execution_count": 4,
   "id": "c89a54de",
   "metadata": {},
   "outputs": [],
   "source": [
    "# 문제 설명\n",
    "# 명함 지갑을 만드는 회사에서 지갑의 크기를 정하려고 합니다. 다양한 모양과 크기의 명함들을 모두 수납할 수 있으면서, 작아서 들고 다니기 편한 지갑을 만들어야 합니다. 이러한 요건을 만족하는 지갑을 만들기 위해 디자인팀은 모든 명함의 가로 길이와 세로 길이를 조사했습니다.\n",
    "\n",
    "# 아래 표는 4가지 명함의 가로 길이와 세로 길이를 나타냅니다.\n",
    "\n",
    "# 명함 번호\t가로 길이\t세로 길이\n",
    "# 1\t60\t50\n",
    "# 2\t30\t70\n",
    "# 3\t60\t30\n",
    "# 4\t80\t40\n",
    "# 가장 긴 가로 길이와 세로 길이가 각각 80, 70이기 때문에 80(가로) x 70(세로) 크기의 지갑을 만들면 모든 명함들을 수납할 수 있습니다. 하지만 2번 명함을 가로로 눕혀 수납한다면 80(가로) x 50(세로) 크기의 지갑으로 모든 명함들을 수납할 수 있습니다. 이때의 지갑 크기는 4000(=80 x 50)입니다.\n",
    "\n",
    "# 모든 명함의 가로 길이와 세로 길이를 나타내는 2차원 배열 sizes가 매개변수로 주어집니다. 모든 명함을 수납할 수 있는 가장 작은 지갑을 만들 때, 지갑의 크기를 return 하도록 solution 함수를 완성해주세요.\n",
    "\n",
    "# 제한사항\n",
    "# sizes의 길이는 1 이상 10,000 이하입니다.\n",
    "# sizes의 원소는 [w, h] 형식입니다.\n",
    "# w는 명함의 가로 길이를 나타냅니다.\n",
    "# h는 명함의 세로 길이를 나타냅니다.\n",
    "# w와 h는 1 이상 1,000 이하인 자연수입니다.\n",
    "\n",
    "# 입출력 예\n",
    "# sizes\tresult\n",
    "# [[60, 50], [30, 70], [60, 30], [80, 40]]\t4000\n",
    "# [[10, 7], [12, 3], [8, 15], [14, 7], [5, 15]]\t120\n",
    "# [[14, 4], [19, 6], [6, 16], [18, 7], [7, 11]]\t133\n",
    "# 입출력 예 설명\n",
    "# 입출력 예 #1\n",
    "# 문제 예시와 같습니다.\n",
    "\n",
    "# 입출력 예 #2\n",
    "# 명함들을 적절히 회전시켜 겹쳤을 때, 3번째 명함(가로: 8, 세로: 15)이 다른 모든 명함보다 크기가 큽니다. 따라서 지갑의 크기는 3번째 명함의 크기와 같으며, 120(=8 x 15)을 return 합니다.\n",
    "\n",
    "# 입출력 예 #3\n",
    "# 명함들을 적절히 회전시켜 겹쳤을 때, 모든 명함을 포함하는 가장 작은 지갑의 크기는 133(=19 x 7)입니다."
   ]
  },
  {
   "cell_type": "code",
   "execution_count": 13,
   "id": "bc19768e",
   "metadata": {},
   "outputs": [
    {
     "name": "stdout",
     "output_type": "stream",
     "text": [
      "my output: 4000 -> expected output: 4000\n",
      "my output: 120 -> expected output: 120\n",
      "my output: 133 -> expected output: 133\n"
     ]
    }
   ],
   "source": [
    "ip1=[[60, 50], [30, 70], [60, 30], [80, 40]]\n",
    "op1=4000\n",
    "ip2=[[10, 7], [12, 3], [8, 15], [14, 7], [5, 15]]\n",
    "op2=120\n",
    "ip3=[[14, 4], [19, 6], [6, 16], [18, 7], [7, 11]]\n",
    "op3=133\n",
    "\n",
    "def solution(sizes):\n",
    "    width=[]\n",
    "    length=[]\n",
    "    for i in sizes:\n",
    "        width.append(max(i))\n",
    "        length.append(min(i))\n",
    "    return max(width) * max(length)\n",
    "\n",
    "print(f'my output: {solution(ip1)} -> expected output: {op1}')\n",
    "print(f'my output: {solution(ip2)} -> expected output: {op2}')\n",
    "print(f'my output: {solution(ip3)} -> expected output: {op3}')\n"
   ]
  },
  {
   "cell_type": "code",
   "execution_count": null,
   "id": "7f5a8705",
   "metadata": {},
   "outputs": [],
   "source": []
  }
 ],
 "metadata": {
  "kernelspec": {
   "display_name": "Python 3 (ipykernel)",
   "language": "python",
   "name": "python3"
  },
  "language_info": {
   "codemirror_mode": {
    "name": "ipython",
    "version": 3
   },
   "file_extension": ".py",
   "mimetype": "text/x-python",
   "name": "python",
   "nbconvert_exporter": "python",
   "pygments_lexer": "ipython3",
   "version": "3.9.12"
  }
 },
 "nbformat": 4,
 "nbformat_minor": 5
}
