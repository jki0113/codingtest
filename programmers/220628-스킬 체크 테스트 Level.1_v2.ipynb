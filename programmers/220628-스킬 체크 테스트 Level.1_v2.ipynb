{
 "cells": [
  {
   "cell_type": "code",
   "execution_count": null,
   "id": "180d55e1",
   "metadata": {},
   "outputs": [],
   "source": [
    "# 정수n을 받아 약수의 합 구하기"
   ]
  },
  {
   "cell_type": "code",
   "execution_count": 63,
   "id": "4e2aa876",
   "metadata": {},
   "outputs": [
    {
     "name": "stdout",
     "output_type": "stream",
     "text": [
      "my output: 28 -> expected output: 28\n",
      "my output: 6 -> expected output: 6\n"
     ]
    }
   ],
   "source": [
    "n1 = 12\n",
    "r1 = 28\n",
    "n2 = 5\n",
    "r2 = 6\n",
    "\n",
    "def solution(n):\n",
    "    answer = 0\n",
    "    nums=[]\n",
    "    for i in range(1, n+1, 1):\n",
    "        if n % i == 0:\n",
    "            nums.append(i)\n",
    "    for i in set(nums):\n",
    "        answer+=i\n",
    "    return answer\n",
    "\n",
    "print(f'my output: {solution(n1)} -> expected output: {r1}')\n",
    "print(f'my output: {solution(n2)} -> expected output: {r2}')"
   ]
  },
  {
   "cell_type": "code",
   "execution_count": 4,
   "id": "efae728f",
   "metadata": {},
   "outputs": [],
   "source": [
    "# 문자열 받아 짝수번째는 대문자 홀수번째는 소문자 출력\n",
    "# 공백기준으로 1번째 2번쨰째... 나눔"
   ]
  },
  {
   "cell_type": "code",
   "execution_count": 108,
   "id": "76ba4aaf",
   "metadata": {},
   "outputs": [
    {
     "name": "stdout",
     "output_type": "stream",
     "text": [
      "my output: TrY HeLlO WoRlD -> expected output: TrY HeLlO WoRlD\n"
     ]
    }
   ],
   "source": [
    "s = \"try hello world\"\n",
    "r = \"TrY HeLlO WoRlD\"\n",
    "\n",
    "def solution(s):\n",
    "    answer = []\n",
    "    word=[]\n",
    "    for k in s.split(' '):\n",
    "        word.append(k)\n",
    "    for i in word:\n",
    "        word_list = list(i)\n",
    "        for j in range(len(word_list)):\n",
    "            if j%2 == 0:\n",
    "                word_list[j] = word_list[j].upper()\n",
    "            elif j%2 == 1:\n",
    "                word_list[j] = word_list[j].lower()\n",
    "        answer.append(''.join(word_list))\n",
    "    return ' '.join(answer)\n",
    "\n",
    "print(f'my output: {solution(s)} -> expected output: {r}')\n",
    "\n",
    "\n"
   ]
  },
  {
   "cell_type": "code",
   "execution_count": null,
   "id": "d07ff5c7",
   "metadata": {},
   "outputs": [],
   "source": []
  }
 ],
 "metadata": {
  "kernelspec": {
   "display_name": "Python 3 (ipykernel)",
   "language": "python",
   "name": "python3"
  },
  "language_info": {
   "codemirror_mode": {
    "name": "ipython",
    "version": 3
   },
   "file_extension": ".py",
   "mimetype": "text/x-python",
   "name": "python",
   "nbconvert_exporter": "python",
   "pygments_lexer": "ipython3",
   "version": "3.9.12"
  }
 },
 "nbformat": 4,
 "nbformat_minor": 5
}
