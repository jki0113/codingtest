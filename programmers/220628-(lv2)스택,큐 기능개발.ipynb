{
 "cells": [
  {
   "cell_type": "code",
   "execution_count": 4,
   "id": "cc9248fb",
   "metadata": {},
   "outputs": [
    {
     "data": {
      "text/plain": [
       "2.5"
      ]
     },
     "execution_count": 4,
     "metadata": {},
     "output_type": "execute_result"
    }
   ],
   "source": [
    "5/2"
   ]
  },
  {
   "cell_type": "code",
   "execution_count": null,
   "id": "b65c3361",
   "metadata": {},
   "outputs": [],
   "source": []
  },
  {
   "cell_type": "code",
   "execution_count": 68,
   "id": "4f014619",
   "metadata": {},
   "outputs": [
    {
     "name": "stdout",
     "output_type": "stream",
     "text": [
      "my output: [2, 1] -> expected output: [2, 1]\n",
      "my output: [1, 3, 2] -> expected output: [1, 3, 2]\n"
     ]
    }
   ],
   "source": [
    "arr1_1 = [93, 30, 55]\n",
    "arr1_2 = [1, 30, 5]\n",
    "r1 = [2, 1]\n",
    "\n",
    "arr2_1 = [95, 90, 99, 99, 80, 99]\t\n",
    "arr2_2 = [1, 1, 1, 1, 1, 1]\t\n",
    "r2 = [1, 3, 2]\n",
    "\n",
    "def solution(progresses, speeds):\n",
    "    import math # 올림 처리를 위한 math import\n",
    "    answer = [] # 최종 결과를 담을 list\n",
    "    result = [] # 각각의 업무가 처리되는 날짜를 담은 list\n",
    "    \n",
    "    # 업무별 작업이 끝나기까지 남은 일수를 result에 담는다\n",
    "    for i,j in zip(progresses, speeds):\n",
    "        result.append(math.ceil((100-i)/j))\n",
    "    # 최종 배포 시간 별 몇개의 기능이 배포되는지\n",
    "    standard= 0\n",
    "    for i in range(len(result)):\n",
    "        if result[i] > standard:\n",
    "            standard=result[i]\n",
    "            pass\n",
    "        answer.append(standard)\n",
    "        \n",
    "    tmp=[]\n",
    "    tmp_=[]\n",
    "    for value in answer:\n",
    "        if value not in tmp:\n",
    "            tmp.append(value)    \n",
    "    for i in tmp:\n",
    "        tmp_.append(answer.count(i))\n",
    "    return tmp_\n",
    "\n",
    "print(f'my output: {solution(arr1_1, arr1_2)} -> expected output: {r1}')\n",
    "print(f'my output: {solution(arr2_1, arr2_2)} -> expected output: {r2}')"
   ]
  },
  {
   "cell_type": "code",
   "execution_count": 58,
   "id": "fbc6ded0",
   "metadata": {},
   "outputs": [
    {
     "name": "stdout",
     "output_type": "stream",
     "text": [
      "93 1\n",
      "30 30\n",
      "55 5\n"
     ]
    }
   ],
   "source": [
    "for i,j in zip(arr1_1, arr1_2):\n",
    "    print(i,j)"
   ]
  },
  {
   "cell_type": "code",
   "execution_count": null,
   "id": "09f0ef20",
   "metadata": {},
   "outputs": [],
   "source": []
  },
  {
   "cell_type": "code",
   "execution_count": null,
   "id": "72d19d21",
   "metadata": {},
   "outputs": [],
   "source": []
  },
  {
   "cell_type": "code",
   "execution_count": null,
   "id": "135e722e",
   "metadata": {},
   "outputs": [],
   "source": []
  },
  {
   "cell_type": "code",
   "execution_count": null,
   "id": "cf3bd64b",
   "metadata": {},
   "outputs": [],
   "source": []
  },
  {
   "cell_type": "code",
   "execution_count": null,
   "id": "a1038ea9",
   "metadata": {},
   "outputs": [],
   "source": []
  }
 ],
 "metadata": {
  "kernelspec": {
   "display_name": "data-col",
   "language": "python",
   "name": "data-col"
  },
  "language_info": {
   "codemirror_mode": {
    "name": "ipython",
    "version": 3
   },
   "file_extension": ".py",
   "mimetype": "text/x-python",
   "name": "python",
   "nbconvert_exporter": "python",
   "pygments_lexer": "ipython3",
   "version": "3.8.12"
  }
 },
 "nbformat": 4,
 "nbformat_minor": 5
}
