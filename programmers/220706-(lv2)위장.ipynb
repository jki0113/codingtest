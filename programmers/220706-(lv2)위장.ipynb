{
 "cells": [
  {
   "cell_type": "code",
   "execution_count": 106,
   "id": "8cb8acad",
   "metadata": {},
   "outputs": [
    {
     "name": "stdout",
     "output_type": "stream",
     "text": [
      "5->5\n",
      "3->3\n",
      "63->63\n",
      "7->7\n"
     ]
    }
   ],
   "source": [
    "ip1=[[\"yellow_hat\", \"headgear\"], [\"blue_sunglasses\", \"eyewear\"], [\"green_turban\", \"headgear\"]]\n",
    "op1=5\n",
    "ip2=[[\"crow_mask\", \"face\"], [\"blue_sunglasses\", \"face\"], [\"smoky_makeup\", \"face\"]]\n",
    "op2=3\n",
    "ip3=[[\"a\",\"aa\"],[\"b\",\"aa\"],[\"c\",\"aa\"],[\"aa\",\"bb\"],[\"bb\",\"bb\"],[\"c_c\",\"bb\"],[\"aaa\",\"cc\"],[\"bbb\",\"cc\"],[\"ccc\",\"cc\"]]\n",
    "op3=63\n",
    "ip4=[[\"a\", \"a\"],[\"b\", \"b\"],[\"c\", \"c\"]]\n",
    "op4=7\n",
    "\n",
    "def solution(clothes):\n",
    "    answer = 1\n",
    "    tmp={}\n",
    "    for i in range(len(clothes)):\n",
    "        tmp[clothes[i][1]]=[]\n",
    "    for i in range(len(clothes)):\n",
    "        tmp[clothes[i][1]]+=[clothes[i][0]]\n",
    "    for i in tmp.values():\n",
    "        answer=answer*(len(i)+1)\n",
    "    return answer-1\n",
    "\n",
    "print(f'{solution(ip1)}->{op1}')\n",
    "print(f'{solution(ip2)}->{op2}')\n",
    "print(f'{solution(ip3)}->{op3}')\n",
    "print(f'{solution(ip4)}->{op4}')"
   ]
  },
  {
   "cell_type": "markdown",
   "id": "ed81f770",
   "metadata": {},
   "source": [
    "##### 그냥 수학 공식으로 푸는 문제\n",
    "##### 해시 만드는 방법이 너무 구지다"
   ]
  },
  {
   "cell_type": "code",
   "execution_count": 111,
   "id": "3969a667",
   "metadata": {},
   "outputs": [
    {
     "ename": "TypeError",
     "evalue": "bad operand type for unary +: 'str'",
     "output_type": "error",
     "traceback": [
      "\u001b[1;31m---------------------------------------------------------------------------\u001b[0m",
      "\u001b[1;31mTypeError\u001b[0m                                 Traceback (most recent call last)",
      "Input \u001b[1;32mIn [111]\u001b[0m, in \u001b[0;36m<cell line: 18>\u001b[1;34m()\u001b[0m\n\u001b[0;32m     16\u001b[0m             tmp[j]\u001b[38;5;241m=\u001b[39m\u001b[38;5;241m+\u001b[39mi\n\u001b[0;32m     17\u001b[0m     \u001b[38;5;28mprint\u001b[39m(tmp)\n\u001b[1;32m---> 18\u001b[0m \u001b[38;5;28mprint\u001b[39m(\u001b[38;5;124mf\u001b[39m\u001b[38;5;124m'\u001b[39m\u001b[38;5;132;01m{\u001b[39;00msolution(ip1)\u001b[38;5;132;01m}\u001b[39;00m\u001b[38;5;124m->\u001b[39m\u001b[38;5;132;01m{\u001b[39;00mop1\u001b[38;5;132;01m}\u001b[39;00m\u001b[38;5;124m'\u001b[39m)\n\u001b[0;32m     19\u001b[0m \u001b[38;5;28mprint\u001b[39m(\u001b[38;5;124mf\u001b[39m\u001b[38;5;124m'\u001b[39m\u001b[38;5;132;01m{\u001b[39;00msolution(ip2)\u001b[38;5;132;01m}\u001b[39;00m\u001b[38;5;124m->\u001b[39m\u001b[38;5;132;01m{\u001b[39;00mop2\u001b[38;5;132;01m}\u001b[39;00m\u001b[38;5;124m'\u001b[39m)\n\u001b[0;32m     20\u001b[0m \u001b[38;5;28mprint\u001b[39m(\u001b[38;5;124mf\u001b[39m\u001b[38;5;124m'\u001b[39m\u001b[38;5;132;01m{\u001b[39;00msolution(ip3)\u001b[38;5;132;01m}\u001b[39;00m\u001b[38;5;124m->\u001b[39m\u001b[38;5;132;01m{\u001b[39;00mop3\u001b[38;5;132;01m}\u001b[39;00m\u001b[38;5;124m'\u001b[39m)\n",
      "Input \u001b[1;32mIn [111]\u001b[0m, in \u001b[0;36msolution\u001b[1;34m(clothes)\u001b[0m\n\u001b[0;32m     14\u001b[0m         tmp[j]\u001b[38;5;241m=\u001b[39mi\n\u001b[0;32m     15\u001b[0m     \u001b[38;5;28;01melse\u001b[39;00m:\n\u001b[1;32m---> 16\u001b[0m         tmp[j]\u001b[38;5;241m=\u001b[39m\u001b[38;5;241;43m+\u001b[39;49m\u001b[43mi\u001b[49m\n\u001b[0;32m     17\u001b[0m \u001b[38;5;28mprint\u001b[39m(tmp)\n",
      "\u001b[1;31mTypeError\u001b[0m: bad operand type for unary +: 'str'"
     ]
    }
   ],
   "source": [
    "ip1=[[\"yellow_hat\", \"headgear\"], [\"blue_sunglasses\", \"eyewear\"], [\"green_turban\", \"headgear\"]]\n",
    "op1=5\n",
    "ip2=[[\"crow_mask\", \"face\"], [\"blue_sunglasses\", \"face\"], [\"smoky_makeup\", \"face\"]]\n",
    "op2=3\n",
    "ip3=[[\"a\",\"aa\"],[\"b\",\"aa\"],[\"c\",\"aa\"],[\"aa\",\"bb\"],[\"bb\",\"bb\"],[\"c_c\",\"bb\"],[\"aaa\",\"cc\"],[\"bbb\",\"cc\"],[\"ccc\",\"cc\"]]\n",
    "op3=63\n",
    "ip4=[[\"a\", \"a\"],[\"b\", \"b\"],[\"c\", \"c\"]]\n",
    "op4=7\n",
    "\n",
    "def solution(clothes):\n",
    "    tmp={}\n",
    "    for i,j in clothes:\n",
    "        if j not in tmp:\n",
    "            tmp[j]=i\n",
    "        else:\n",
    "            tmp[j]=+i\n",
    "    print(tmp)\n",
    "print(f'{solution(ip1)}->{op1}')\n",
    "print(f'{solution(ip2)}->{op2}')\n",
    "print(f'{solution(ip3)}->{op3}')\n",
    "print(f'{solution(ip4)}->{op4}')"
   ]
  },
  {
   "cell_type": "code",
   "execution_count": 1,
   "id": "35b310c7",
   "metadata": {},
   "outputs": [
    {
     "name": "stderr",
     "output_type": "stream",
     "text": [
      "C:\\Users\\jki01\\AppData\\Local\\Temp\\ipykernel_15716\\3777615979.py:1: DeprecationWarning: Importing display from IPython.core.display is deprecated since IPython 7.14, please import from IPython display\n",
      "  from IPython.core.display import display, HTML\n"
     ]
    },
    {
     "data": {
      "text/html": [
       "<style>.container { width:100% !important; }</style>"
      ],
      "text/plain": [
       "<IPython.core.display.HTML object>"
      ]
     },
     "metadata": {},
     "output_type": "display_data"
    }
   ],
   "source": [
    "from IPython.core.display import display, HTML\n",
    "display(HTML(\"<style>.container { width:100% !important; }</style>\"))"
   ]
  }
 ],
 "metadata": {
  "kernelspec": {
   "display_name": "Python 3 (ipykernel)",
   "language": "python",
   "name": "python3"
  },
  "language_info": {
   "codemirror_mode": {
    "name": "ipython",
    "version": 3
   },
   "file_extension": ".py",
   "mimetype": "text/x-python",
   "name": "python",
   "nbconvert_exporter": "python",
   "pygments_lexer": "ipython3",
   "version": "3.9.12"
  }
 },
 "nbformat": 4,
 "nbformat_minor": 5
}
