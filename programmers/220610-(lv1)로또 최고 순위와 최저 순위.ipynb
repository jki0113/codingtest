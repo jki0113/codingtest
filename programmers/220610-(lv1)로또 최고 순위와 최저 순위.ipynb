{
 "cells": [
  {
   "cell_type": "code",
   "execution_count": 1,
   "id": "7b5bb127",
   "metadata": {},
   "outputs": [],
   "source": [
    "lottos = [44, 1, 0, 0, 31, 25]\n",
    "win_nums = [31, 10, 45, 1, 6, 19]\n",
    "\n",
    "lottos = [0, 0, 0, 0, 0, 0]\n",
    "win_nums = [38, 19, 20, 40, 15, 25]\n",
    "\n",
    "lottos = [45, 4, 35, 20, 3, 9]\n",
    "win_nums = [20, 9, 3, 45, 4, 35]"
   ]
  },
  {
   "cell_type": "markdown",
   "id": "5b8966fb",
   "metadata": {},
   "source": [
    "# 1차 시도"
   ]
  },
  {
   "cell_type": "code",
   "execution_count": 75,
   "id": "3b61aa9b",
   "metadata": {},
   "outputs": [
    {
     "data": {
      "text/plain": [
       "[3, 5]"
      ]
     },
     "execution_count": 75,
     "metadata": {},
     "output_type": "execute_result"
    }
   ],
   "source": [
    "def solution(lottos, win_nums):\n",
    "    bestResult = 0\n",
    "    worstResult = 0\n",
    "    \n",
    "    for i in lottos:\n",
    "        if i == 0:\n",
    "            bestResult = bestResult+1\n",
    "#             worstResult = worstResult+1\n",
    "        elif i != 0:\n",
    "            for j in win_nums:\n",
    "                if i == j:\n",
    "                    bestResult = bestResult+1\n",
    "                    worstResult = worstResult+1\n",
    "                elif i != j:\n",
    "                    pass\n",
    "    if bestResult == 6:\n",
    "        bestResult = 1\n",
    "    elif bestResult == 5:\n",
    "        bestResult = 2\n",
    "    elif bestResult == 4:\n",
    "        bestResult = 3\n",
    "    elif bestResult == 3:\n",
    "        bestResult = 4\n",
    "    elif bestResult == 2:\n",
    "        bestResult = 5\n",
    "    else:\n",
    "        bestResult = 6\n",
    "        \n",
    "    if worstResult == 6:\n",
    "        worstResult = 1\n",
    "    elif worstResult == 5:\n",
    "        worstResult = 2\n",
    "    elif worstResult == 4:\n",
    "        worstResult = 3\n",
    "    elif worstResult == 3:\n",
    "        worstResult = 4\n",
    "    elif worstResult == 2:\n",
    "        worstResult = 5\n",
    "    else:\n",
    "        worstResult = 6\n",
    "            \n",
    "            \n",
    "        \n",
    "    answer = [bestResult, worstResult]\n",
    "    return answer\n",
    "\n",
    "solution(lottos, win_nums)"
   ]
  },
  {
   "cell_type": "code",
   "execution_count": null,
   "id": "822a1e63",
   "metadata": {},
   "outputs": [],
   "source": []
  },
  {
   "cell_type": "markdown",
   "id": "82480dc1",
   "metadata": {},
   "source": [
    "# 2차시도\n",
    "##### 무지성 보완"
   ]
  },
  {
   "cell_type": "code",
   "execution_count": 2,
   "id": "fbc3cfa1",
   "metadata": {},
   "outputs": [],
   "source": [
    "# test case\n",
    "lottos1 = [44, 1, 0, 0, 31, 25]\n",
    "win_nums1 = [31, 10, 45, 1, 6, 19]\n",
    "\n",
    "lottos2 = [0, 0, 0, 0, 0, 0]\n",
    "win_nums2 = [38, 19, 20, 40, 15, 25]\n",
    "\n",
    "lottos3 = [45, 4, 35, 20, 3, 9]\n",
    "win_nums3 = [20, 9, 3, 45, 4, 35]\n",
    "\n",
    "lottos4 = [1, 2, 3, 4, 5, 6]\n",
    "win_nums4 = [7, 8, 9, 10, 11, 12]"
   ]
  },
  {
   "cell_type": "code",
   "execution_count": 104,
   "id": "8e37248a",
   "metadata": {},
   "outputs": [],
   "source": [
    "def solution(lottos, win_nums):\n",
    "    bestResult = 7\n",
    "    worstResult = 7\n",
    "    for i in lottos:\n",
    "        if i == 0:\n",
    "            bestResult = bestResult-1\n",
    "        elif i != 0:\n",
    "            for j in win_nums:\n",
    "                if i == j:\n",
    "                    bestResult = bestResult-1\n",
    "                    worstResult = worstResult-1\n",
    "    if bestResult > 6:\n",
    "        bestResult = 6\n",
    "    if worstResult > 6:\n",
    "        worstResult = 6\n",
    "\n",
    "    answer = [bestResult, worstResult]\n",
    "    return answer"
   ]
  },
  {
   "cell_type": "code",
   "execution_count": 105,
   "id": "5ffba8e2",
   "metadata": {},
   "outputs": [
    {
     "name": "stdout",
     "output_type": "stream",
     "text": [
      "[3, 5]\n",
      "[1, 6]\n",
      "[1, 1]\n",
      "[6, 6]\n"
     ]
    }
   ],
   "source": [
    "print(solution(lottos1, win_nums1))\n",
    "print(solution(lottos2, win_nums2))\n",
    "print(solution(lottos3, win_nums3))\n",
    "print(solution(lottos4, win_nums4))"
   ]
  },
  {
   "cell_type": "code",
   "execution_count": null,
   "id": "434cbe1e",
   "metadata": {},
   "outputs": [],
   "source": [
    "# \t[3, 5]\t[1, 6]\t[1, 1]"
   ]
  },
  {
   "cell_type": "markdown",
   "id": "ea8a5642",
   "metadata": {},
   "source": [
    "# 3차 보완"
   ]
  },
  {
   "cell_type": "code",
   "execution_count": 36,
   "id": "42a0ff4d",
   "metadata": {},
   "outputs": [],
   "source": [
    "def solution(lottos, win_nums):\n",
    "    bestResult = 7\n",
    "    worstResult = 7\n",
    "    for i in lottos:\n",
    "        if (i not in win_nums) and (i == 0):\n",
    "            bestResult = bestResult-1\n",
    "        elif (i != 0) and (i in win_nums):\n",
    "                bestResult = bestResult-1\n",
    "                worstResult = worstResult-1\n",
    "    if bestResult > 6:\n",
    "        bestResult = 6\n",
    "    if worstResult > 6:\n",
    "        worstResult = 6\n",
    "\n",
    "    answer = [bestResult, worstResult]\n",
    "    return answer"
   ]
  },
  {
   "cell_type": "code",
   "execution_count": 37,
   "id": "426de823",
   "metadata": {},
   "outputs": [
    {
     "name": "stdout",
     "output_type": "stream",
     "text": [
      "[3, 5]\n",
      "[1, 6]\n",
      "[1, 1]\n",
      "[6, 6]\n"
     ]
    }
   ],
   "source": [
    "print(solution(lottos1, win_nums1))\n",
    "print(solution(lottos2, win_nums2))\n",
    "print(solution(lottos3, win_nums3))\n",
    "print(solution(lottos4, win_nums4))"
   ]
  },
  {
   "cell_type": "markdown",
   "id": "40751907",
   "metadata": {},
   "source": [
    "# 4차 보완"
   ]
  },
  {
   "cell_type": "code",
   "execution_count": 64,
   "id": "8d5bd656",
   "metadata": {},
   "outputs": [
    {
     "name": "stdout",
     "output_type": "stream",
     "text": [
      "[3, 5]\n",
      "[1, 6]\n",
      "[1, 1]\n",
      "[6, 6]\n"
     ]
    }
   ],
   "source": [
    "def solution(lottos, win_nums):\n",
    "    bestResult = 7\n",
    "    worstResult = 7\n",
    "    for i in lottos:\n",
    "        if (i not in win_nums) and (i == 0): bestResult-=1\n",
    "        elif (i != 0) and (i in win_nums):\n",
    "            bestResult-=1\n",
    "            worstResult-=1\n",
    "                \n",
    "    if bestResult > 6: bestResult = 6\n",
    "    if worstResult > 6: worstResult = 6\n",
    "\n",
    "    answer = [bestResult, worstResult]\n",
    "    return answer\n",
    "\n",
    "\n",
    "print(solution(lottos1, win_nums1))\n",
    "print(solution(lottos2, win_nums2))\n",
    "print(solution(lottos3, win_nums3))\n",
    "print(solution(lottos4, win_nums4))"
   ]
  },
  {
   "cell_type": "code",
   "execution_count": null,
   "id": "05fb8603",
   "metadata": {},
   "outputs": [],
   "source": []
  },
  {
   "cell_type": "markdown",
   "id": "dc17e025",
   "metadata": {},
   "source": [
    "# 정답 확인"
   ]
  },
  {
   "cell_type": "code",
   "execution_count": 73,
   "id": "f72f9477",
   "metadata": {},
   "outputs": [
    {
     "name": "stdout",
     "output_type": "stream",
     "text": [
      "(3, 5)\n",
      "(1, 6)\n",
      "(1, 1)\n",
      "(6, 6)\n"
     ]
    }
   ],
   "source": [
    "def solution(lottos, win_nums):\n",
    "    rank=[6,6,5,4,3,2,1]\n",
    "    cnt_0 = lottos.count(0)\n",
    "    ans = 0\n",
    "    for x in win_nums:\n",
    "        if x in lottos:\n",
    "            ans += 1\n",
    "    return rank[cnt_0 + ans],rank[ans]\n",
    "\n",
    "\n",
    "\n",
    "print(solution(lottos1, win_nums1))\n",
    "print(solution(lottos2, win_nums2))\n",
    "print(solution(lottos3, win_nums3))\n",
    "print(solution(lottos4, win_nums4))"
   ]
  },
  {
   "cell_type": "code",
   "execution_count": 74,
   "id": "a166ce86",
   "metadata": {},
   "outputs": [
    {
     "name": "stdout",
     "output_type": "stream",
     "text": [
      "(3, 5)\n",
      "(1, 6)\n",
      "(1, 1)\n",
      "(6, 6)\n"
     ]
    }
   ],
   "source": [
    "# 정답코드 개선해보기\n",
    "def solution(lottos, win_nums):\n",
    "    rank = [6,6,5,4,3,2,1]\n",
    "    cnt_0 = lottos.count(0)\n",
    "    ans = 0\n",
    "    \n",
    "    ans = [ans+1 for x in win_nums if x in lottos]\n",
    "    answer = rank[len(ans) + cnt_0], rank[len(ans)]\n",
    "    return answer\n",
    "\n",
    "\n",
    "\n",
    "print(solution(lottos1, win_nums1))\n",
    "print(solution(lottos2, win_nums2))\n",
    "print(solution(lottos3, win_nums3))\n",
    "print(solution(lottos4, win_nums4))"
   ]
  },
  {
   "cell_type": "code",
   "execution_count": null,
   "id": "5839437a",
   "metadata": {},
   "outputs": [],
   "source": []
  }
 ],
 "metadata": {
  "kernelspec": {
   "display_name": "Python 3 (ipykernel)",
   "language": "python",
   "name": "python3"
  },
  "language_info": {
   "codemirror_mode": {
    "name": "ipython",
    "version": 3
   },
   "file_extension": ".py",
   "mimetype": "text/x-python",
   "name": "python",
   "nbconvert_exporter": "python",
   "pygments_lexer": "ipython3",
   "version": "3.9.12"
  }
 },
 "nbformat": 4,
 "nbformat_minor": 5
}
