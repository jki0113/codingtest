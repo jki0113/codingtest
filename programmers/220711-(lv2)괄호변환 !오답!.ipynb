{
 "cells": [
  {
   "cell_type": "code",
   "execution_count": 1,
   "id": "8bdf5be5",
   "metadata": {},
   "outputs": [
    {
     "data": {
      "text/html": [
       "<style>.container { width:100% !important; }</style>"
      ],
      "text/plain": [
       "<IPython.core.display.HTML object>"
      ]
     },
     "metadata": {},
     "output_type": "display_data"
    }
   ],
   "source": [
    "from IPython.display import display, HTML\n",
    "display(HTML(\"<style>.container { width:100% !important; }</style>\"))\n"
   ]
  },
  {
   "cell_type": "markdown",
   "id": "3a7ffc06",
   "metadata": {},
   "source": [
    "##### 시간 초과 실패"
   ]
  },
  {
   "cell_type": "code",
   "execution_count": 18,
   "id": "77d31629",
   "metadata": {},
   "outputs": [
    {
     "name": "stdout",
     "output_type": "stream",
     "text": [
      "['(', '(', ')', '(', ')', ')', '(', ')']\n",
      "['(', '(', ')', '(', ')', ')', '(', ')']\n",
      "['(', '(', ')', '(', ')', ')', '(', ')']\n",
      "['(', '(', '(', ')', ')', ')', '(', ')']\n",
      "['(', '(', '(', ')', ')', ')', '(', ')']\n",
      "['(', '(', '(', ')', ')', ')', '(', ')']\n",
      "['(', '(', '(', ')', ')', '(', ')', ')']\n",
      "['(', '(', '(', ')', ')', '(', ')', ')']\n"
     ]
    },
    {
     "ename": "IndexError",
     "evalue": "list index out of range",
     "output_type": "error",
     "traceback": [
      "\u001b[1;31m---------------------------------------------------------------------------\u001b[0m",
      "\u001b[1;31mIndexError\u001b[0m                                Traceback (most recent call last)",
      "Input \u001b[1;32mIn [18]\u001b[0m, in \u001b[0;36m<cell line: 26>\u001b[1;34m()\u001b[0m\n\u001b[0;32m     23\u001b[0m                     \u001b[38;5;28;01mcontinue\u001b[39;00m\n\u001b[0;32m     24\u001b[0m     \u001b[38;5;28;01mreturn\u001b[39;00m answer\n\u001b[1;32m---> 26\u001b[0m \u001b[38;5;28mprint\u001b[39m(\u001b[38;5;124mf\u001b[39m\u001b[38;5;124m\"\u001b[39m\u001b[38;5;132;01m{\u001b[39;00msolution(p1)\u001b[38;5;132;01m}\u001b[39;00m\u001b[38;5;124m -> \u001b[39m\u001b[38;5;132;01m{\u001b[39;00mr1\u001b[38;5;132;01m}\u001b[39;00m\u001b[38;5;124m\"\u001b[39m)\n\u001b[0;32m     27\u001b[0m \u001b[38;5;28mprint\u001b[39m(\u001b[38;5;124mf\u001b[39m\u001b[38;5;124m\"\u001b[39m\u001b[38;5;132;01m{\u001b[39;00msolution(p2)\u001b[38;5;132;01m}\u001b[39;00m\u001b[38;5;124m -> \u001b[39m\u001b[38;5;132;01m{\u001b[39;00mr2\u001b[38;5;132;01m}\u001b[39;00m\u001b[38;5;124m\"\u001b[39m)\n\u001b[0;32m     28\u001b[0m \u001b[38;5;28mprint\u001b[39m(\u001b[38;5;124mf\u001b[39m\u001b[38;5;124m\"\u001b[39m\u001b[38;5;132;01m{\u001b[39;00msolution(p3)\u001b[38;5;132;01m}\u001b[39;00m\u001b[38;5;124m -> \u001b[39m\u001b[38;5;132;01m{\u001b[39;00mr3\u001b[38;5;132;01m}\u001b[39;00m\u001b[38;5;124m\"\u001b[39m)\n",
      "Input \u001b[1;32mIn [18]\u001b[0m, in \u001b[0;36msolution\u001b[1;34m(p)\u001b[0m\n\u001b[0;32m     18\u001b[0m     p\u001b[38;5;241m=\u001b[39mp[:i]\u001b[38;5;241m+\u001b[39mp[i\u001b[38;5;241m+\u001b[39m\u001b[38;5;241m2\u001b[39m:]\n\u001b[0;32m     19\u001b[0m     \u001b[38;5;28;01mbreak\u001b[39;00m\n\u001b[1;32m---> 20\u001b[0m \u001b[38;5;28;01melif\u001b[39;00m \u001b[43mp\u001b[49m\u001b[43m[\u001b[49m\u001b[43mi\u001b[49m\u001b[38;5;241;43m+\u001b[39;49m\u001b[38;5;241;43m1\u001b[39;49m\u001b[43m]\u001b[49m\u001b[38;5;241m==\u001b[39m\u001b[38;5;124m\"\u001b[39m\u001b[38;5;124m(\u001b[39m\u001b[38;5;124m\"\u001b[39m \u001b[38;5;129;01mand\u001b[39;00m p[i]\u001b[38;5;241m==\u001b[39m\u001b[38;5;124m\"\u001b[39m\u001b[38;5;124m)\u001b[39m\u001b[38;5;124m\"\u001b[39m:\n\u001b[0;32m     21\u001b[0m     p[i]\u001b[38;5;241m=\u001b[39m\u001b[38;5;124m\"\u001b[39m\u001b[38;5;124m(\u001b[39m\u001b[38;5;124m\"\u001b[39m\n\u001b[0;32m     22\u001b[0m     p[i\u001b[38;5;241m+\u001b[39m\u001b[38;5;241m1\u001b[39m]\u001b[38;5;241m=\u001b[39m\u001b[38;5;124m\"\u001b[39m\u001b[38;5;124m)\u001b[39m\u001b[38;5;124m\"\u001b[39m\n",
      "\u001b[1;31mIndexError\u001b[0m: list index out of range"
     ]
    }
   ],
   "source": [
    "p1=\"(()())()\"\n",
    "r1=\"(()())()\"\n",
    "p2=\")(\"\n",
    "r2=\"()\"\n",
    "p3=\"()))((()\"\n",
    "r3=\"()(())()\"\n",
    "def solution(p):\n",
    "    answer=[]\n",
    "    # 1번 조건\n",
    "    if p==None or p==\"\":\n",
    "        return \"\"\n",
    "    # 2번 조건\n",
    "    p=list(p)\n",
    "    while True:\n",
    "        if len(answer) == len(p):\n",
    "            break\n",
    "        else:\n",
    "            for i in range(len(p)):\n",
    "                print(p)\n",
    "                if i==\"(\" and i+1==\")\":\n",
    "                    answer.append(p[i]+(p[i+1]))\n",
    "                    p=p[:i]+p[i+2:]\n",
    "                    break\n",
    "                elif p[i+1]==\"(\" and p[i]==\")\":\n",
    "                    p[i]=\"(\"\n",
    "                    p[i+1]=\")\"\n",
    "                    continue\n",
    "    return answer\n",
    "\n",
    "print(f\"{solution(p1)} -> {r1}\")\n",
    "print(f\"{solution(p2)} -> {r2}\")\n",
    "print(f\"{solution(p3)} -> {r3}\")"
   ]
  },
  {
   "cell_type": "markdown",
   "id": "940bc1c7",
   "metadata": {},
   "source": [
    "##### 정답 코드"
   ]
  },
  {
   "cell_type": "code",
   "execution_count": 26,
   "id": "bc72bb48",
   "metadata": {},
   "outputs": [
    {
     "name": "stdout",
     "output_type": "stream",
     "text": [
      "(()())() -> (()())()\n",
      "() -> ()\n",
      "()(())() -> ()(())()\n"
     ]
    }
   ],
   "source": [
    "p1=\"(()())()\"\n",
    "r1=\"(()())()\"\n",
    "p2=\")(\"\n",
    "r2=\"()\"\n",
    "p3=\"()))((()\"\n",
    "r3=\"()(())()\"\n",
    "def solution(p):\n",
    "    p = list(p)\n",
    "    # 2. 문자열 w를 두 균형잡힌 괄호 문자열 u, v로 분리하는 함수\n",
    "    def split(lst):\n",
    "        left_cnt = 0\n",
    "        right_cnt = 0\n",
    "        cut_idx = 0\n",
    "        for i in range(len(lst)):\n",
    "            if lst[i] == '(':\n",
    "                left_cnt += 1\n",
    "            elif lst[i] == ')':\n",
    "                right_cnt += 1\n",
    "            if left_cnt == right_cnt:\n",
    "                cut_idx = i\n",
    "                break\n",
    "        u, v = lst[0: i + 1], lst[i + 1:]\n",
    "\n",
    "        return (u, v)\n",
    "\n",
    "    # 올바른 괄호 문자열인지 확인하는 함수\n",
    "    def check(u_lst):\n",
    "        lst = u_lst\n",
    "        stck = []\n",
    "        idx = 0\n",
    "        while idx < len(lst):\n",
    "            first_idx = lst[idx]\n",
    "            if not stck:\n",
    "                stck.append(first_idx)\n",
    "            elif stck[-1] == '(' and first_idx == ')':\n",
    "                stck.pop(-1)\n",
    "            else:\n",
    "                stck.append(first_idx)\n",
    "            idx += 1\n",
    "        if stck:\n",
    "            return False\n",
    "        else:\n",
    "            return True  \n",
    "\n",
    "    # 4. 문자열 u가 \"올바른 괄호 문자열\"이 아니라면 아래 과정을 수행하는 함수. \n",
    "    # 4-4. u의 첫 번째와 마지막 문자를 제거하고, 나머지 문자열의 괄호 방향을 뒤집어서 뒤에 붙입니다. \n",
    "    def convert(string_val):\n",
    "        string_val.pop(0)\n",
    "        string_val.pop(-1)\n",
    "        if not string_val:\n",
    "            return []\n",
    "        else:\n",
    "            for i in range(len(string_val)):\n",
    "                if string_val[i] == '(':\n",
    "                    string_val[i] = ')'\n",
    "                else:\n",
    "                    string_val[i] = '('\n",
    "            return string_val\n",
    "\n",
    "    def change(w):\n",
    "        # 1. 입력이 빈 문자열인 경우, 빈 문자열을 반환합니다. \n",
    "        if len(w) == 0:\n",
    "            return []\n",
    "        # 2. 문자열 w를 두 \"균형잡힌 괄호 문자열\" u, v로 분리합니다. \n",
    "        # 단, u는 \"균형잡힌 괄호 문자열\"로 더 이상 분리할 수 없어야 하며, v는 빈 문자열이 될 수 있습니다. \n",
    "        u, v = split(w)\n",
    "        # 3. 문자열 u가 \"올바른 괄호 문자열\" 이라면 문자열 v에 대해 1단계부터 다시 수행합니다. \n",
    "        if check(u):\n",
    "            return u + change(v)\n",
    "\n",
    "        # 4. 문자열 u가 \"올바른 괄호 문자열\"이 아니라면 아래 과정을 수행합니다. \n",
    "        else:\n",
    "            # 4-4. u의 첫 번째와 마지막 문자를 제거하고, 나머지 문자열의 괄호 방향을 뒤집어서 뒤에 붙입니다. \n",
    "            new_u = convert(u)\n",
    "            # 4-1. 빈 문자열에 첫 번째 문자로 '('를 붙입니다.\n",
    "            # 4-2. 문자열 v에 대해 1단계부터 재귀적으로 수행한 결과 문자열을 이어 붙입니다. \n",
    "            # 4-3. ')'를 다시 붙입니다. \n",
    "            return ['('] + change(v) + [')'] + new_u\n",
    "\n",
    "    return (''.join(change(p)))\n",
    "\n",
    "print(f\"{solution(p1)} -> {r1}\")\n",
    "print(f\"{solution(p2)} -> {r2}\")\n",
    "print(f\"{solution(p3)} -> {r3}\")"
   ]
  },
  {
   "cell_type": "code",
   "execution_count": null,
   "id": "0cf3150a",
   "metadata": {},
   "outputs": [],
   "source": []
  }
 ],
 "metadata": {
  "kernelspec": {
   "display_name": "Python 3 (ipykernel)",
   "language": "python",
   "name": "python3"
  },
  "language_info": {
   "codemirror_mode": {
    "name": "ipython",
    "version": 3
   },
   "file_extension": ".py",
   "mimetype": "text/x-python",
   "name": "python",
   "nbconvert_exporter": "python",
   "pygments_lexer": "ipython3",
   "version": "3.9.12"
  }
 },
 "nbformat": 4,
 "nbformat_minor": 5
}
